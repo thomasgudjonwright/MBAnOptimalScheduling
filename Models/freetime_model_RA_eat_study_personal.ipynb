{
 "cells": [
  {
   "cell_type": "markdown",
   "id": "792f4c4f",
   "metadata": {},
   "source": [
    "What is changed from the last notebook?\n",
    "- Added some personal constraints\n",
    "- Lunch from 12:30 to 1pm\n",
    "\n",
    "Assumptions:\n",
    "- Even though Analytics Lab has a smaller number of units (9 in comparison to 12 for ML, Opt, and Edge), it is very project-oriented which is why we assume that it requires the same amount of time for project meetings\n",
    "- Study time (homeworks, individual project work, study lecture material) for each subject was estimated based on MIT Registrar's Office (lecture - office hours - project)\n",
    "\n",
    "ML: 3-1-8 -> Estimation study time: homeworks (5) + individual project work (8-2=6) + study lecture material (3)\n",
    "\n",
    "Opt: 4-0-8 -> Estimation study time:  homeworks (5) + individual project work (8-2=6) + study lecture material (3)\n",
    "\n",
    "A-Lab: 2-0-7 -> Estimation study time: homeworks (0) + individual project work (7-2=5) + study lecture material (0)\n",
    "\n",
    "Edge: 4-0-8 -> Estimation study time: homeworks (3) + individual project work (8-2=6) + study lecture material (2)\n",
    "\n",
    "SUM of all hours: 44\n"
   ]
  },
  {
   "cell_type": "code",
   "execution_count": 33,
   "id": "bc6d2071-6ea9-45e6-8661-aa00eb7b75f8",
   "metadata": {},
   "outputs": [],
   "source": [
    "using JuMP, Gurobi, CSV, Tables"
   ]
  },
  {
   "cell_type": "code",
   "execution_count": 34,
   "id": "d7a57d28-7e64-4f6e-9712-8b606b19b9fd",
   "metadata": {},
   "outputs": [],
   "source": [
    "Students_raw = CSV.File(\"../Data/Name_dict.csv\", header=false) |> Tables.matrix;\n",
    "ALab_raw = CSV.File(\"../Data/Teams_ALab.csv\", header=false) |> Tables.matrix;\n",
    "Edge_raw = CSV.File(\"../Data/Teams_Edge.csv\", header=false) |> Tables.matrix;\n",
    "ML_raw = CSV.File(\"../Data/Teams_ML.csv\", header=false) |> Tables.matrix;\n",
    "Opt_raw = CSV.File(\"../Data/Teams_Opt.csv\", header=false) |> Tables.matrix;\n",
    "RA_students = [1,2,4,5,6,8,10,12,15,20,36,41,46];\n",
    "\n",
    "#Personalized constraints\n",
    "Leadership_students = [2, 12,21, 24, 30,31,34,44];\n",
    "Sloan_senate = [2, 26];\n",
    "Football_match = [23, 29];\n",
    "Catholic_mass = [1];"
   ]
  },
  {
   "cell_type": "code",
   "execution_count": 35,
   "id": "4449cf48-c42a-40e7-aac8-d441a5798838",
   "metadata": {},
   "outputs": [],
   "source": [
    "Students = hcat(parse.(Float64, Students_raw[2:end,1]),Students_raw[2:end,2])\n",
    "ALab = parse.(Int64, ALab_raw[2:end,:]);\n",
    "Edge = parse.(Int64, Edge_raw[2:end,:]);\n",
    "ML = parse.(Int64, ML_raw[2:end,:]);\n",
    "Opt = parse.(Int64, Opt_raw[2:end,:]);"
   ]
  },
  {
   "cell_type": "code",
   "execution_count": 36,
   "id": "842c9f9e-ff62-467d-a6a1-d0a62927dd2b",
   "metadata": {},
   "outputs": [
    {
     "data": {
      "text/plain": [
       "get_groups (generic function with 1 method)"
      ]
     },
     "execution_count": 36,
     "metadata": {},
     "output_type": "execute_result"
    }
   ],
   "source": [
    "function get_groups(mat)\n",
    "    n = size(mat, 1)\n",
    "    new_mat = []\n",
    "    for i in 1:n\n",
    "        inds = findall(x->x!=99, mat[i,:])\n",
    "        push!(new_mat, Int.(mat[i,inds]))\n",
    "    end\n",
    "    return new_mat\n",
    "end"
   ]
  },
  {
   "cell_type": "code",
   "execution_count": 37,
   "id": "727c1597-2d51-444b-8a86-fd5d39cb249a",
   "metadata": {},
   "outputs": [],
   "source": [
    "ALab = get_groups(ALab);\n",
    "Edge = get_groups(Edge);\n",
    "ML = get_groups(ML);\n",
    "Opt = get_groups(Opt);"
   ]
  },
  {
   "cell_type": "code",
   "execution_count": 38,
   "id": "f97071ce-d599-42f8-a35b-768789b9f9f4",
   "metadata": {},
   "outputs": [
    {
     "name": "stdout",
     "output_type": "stream",
     "text": [
      "Set parameter Username\r\n",
      "Academic license - for non-commercial use only - expires 2023-08-14\r\n"
     ]
    }
   ],
   "source": [
    "env = Gurobi.Env();"
   ]
  },
  {
   "cell_type": "markdown",
   "id": "23e6a758-d994-448c-8ca0-59d458ab26b1",
   "metadata": {},
   "source": [
    "**Activities**: {  \n",
    "    1 := sleep,  \n",
    "    2 := free time,  \n",
    "    3 := class,  \n",
    "    4 := ALab meeting,  \n",
    "    5 := Edge meeting,  \n",
    "    6 := ML meeting,  \n",
    "    7 := Opt meeting,  \n",
    "    8 := RA work,  \n",
    "    9 := eat,  \n",
    "    10 := study,  \n",
    "    11 := personal\n",
    "}"
   ]
  },
  {
   "cell_type": "code",
   "execution_count": 39,
   "id": "48bedcf4-c540-4033-8b9e-d8590314ceaa",
   "metadata": {},
   "outputs": [
    {
     "data": {
      "text/plain": [
       "freetime_model (generic function with 1 method)"
      ]
     },
     "execution_count": 39,
     "metadata": {},
     "output_type": "execute_result"
    }
   ],
   "source": [
    "```\n",
    "A := activities\n",
    "S := students\n",
    "C := class time periods \n",
    "```\n",
    "function freetime_model(A, S, C, ALab, Edge, ML, Opt)\n",
    "    \n",
    "    model = Model(() -> Gurobi.Optimizer(env)) ;\n",
    "    set_time_limit_sec(model, 20)\n",
    "    set_optimizer_attribute(model, \"OutputFlag\", 1)\n",
    "    set_optimizer_attribute(model, \"MIPGap\", 5e-3)\n",
    "    \n",
    "    n_A = length(A)\n",
    "    n_S = size(S, 1)\n",
    "    n_al = length(ALab)\n",
    "    n_ed = length(Edge)\n",
    "    n_ml = length(ML)\n",
    "    n_opt = length(Opt)\n",
    "    \n",
    "    #initializing weights for free time as 1 (at the end we will value free time durng 9am-5pm from Monday to Friday as 1 - baseline)\n",
    "    free_time_weights = ones(Float16, (size(Students, 1),7,48))\n",
    "    \n",
    "    #free time during: \n",
    "    #8am-9am from Monday to Friday | 5-11pm from Monday to Thursday | 11am-5pm from Saturday | 11am-11pm Sunday\n",
    "    #is consdered 3 times more valuable\n",
    "    for s in 1:size(Students, 1)\n",
    "        for d in 1:5\n",
    "            free_time_weights[CartesianIndex.(s,d,17:18)] .= 3\n",
    "        end\n",
    "        for d in 1:4\n",
    "            free_time_weights[CartesianIndex.(s,d,35:46)] .= 3\n",
    "        end\n",
    "        free_time_weights[CartesianIndex.(s,6,23:34)] .= 3\n",
    "        free_time_weights[CartesianIndex.(s,7,23:46)] .= 3\n",
    "    end\n",
    "    \n",
    "    #free time during: \n",
    "    #5pm -  midnight on Friday | midnight-1am & 5pm - midnight Saturday | midnight-1am Sunday\n",
    "    #is consdered 5 times more valuable\n",
    "    for s in 1:size(Students, 1)\n",
    "        for d in 5:6\n",
    "            free_time_weights[CartesianIndex.(s,d,35:48)] .= 5\n",
    "        end\n",
    "        for d in 6:7\n",
    "            free_time_weights[CartesianIndex.(s,d,1:2)] .= 5            \n",
    "        end\n",
    "    end\n",
    "    \n",
    "    # variable for student activities over time\n",
    "    @variable(model, x[1:n_S, 1:n_A, 1:7, 1:48], Bin)\n",
    "    \n",
    "    # variable for indicating if the group is all doing the correct meeting\n",
    "    @variable(model, al[1:n_al, 1:7, 1:45], Bin)\n",
    "    @variable(model, ed[1:n_ed, 1:7, 1:45], Bin)\n",
    "    @variable(model, ml[1:n_ml, 1:7, 1:45], Bin)\n",
    "    @variable(model, opt[1:n_opt, 1:7, 1:45], Bin)\n",
    "    \n",
    "    # Must do one activity at a time\n",
    "#     @constraint(model, [s=1:n_S], sum(x[s,:,:,:], dims=1) .== 1)\n",
    "    @constraint(model, [s=1:n_S, d=1:7, t=1:48], x[s,:,d,t] in SOS1())\n",
    "    \n",
    "    # at the moment, we allocating time for sleep between 11pm and 7am (8hrs) during weekdays\n",
    "    @constraint(model, [s=1:n_S, d=1:4], x[s,1,d,vcat(1:14,end-1:end)].==1)\n",
    "    #on Friday, time allocated for sleep in only until 7am\n",
    "    @constraint(model, [s=1:n_S], x[s,1,5,vcat(1:14)].==1)\n",
    "    #on Saturday, time allocated for sleep is from 1 am to 10 am \n",
    "    @constraint(model, [s=1:n_S], x[s,1,6,vcat(3:20)].==1)\n",
    "    #on Saturday, time allocated for sleep is from 1 am to 10 am and from 11pm \n",
    "    @constraint(model, [s=1:n_S], x[s,1,7,vcat(3:20,end-1:end)].==1)\n",
    "    \n",
    "    # at the moment, we are forcing students to attend classes\n",
    "    for day in 1:7\n",
    "        @constraint(model, [s=1:n_S], x[s,3,day,C[day]].==1)\n",
    "    end\n",
    "    \n",
    "    # ALab\n",
    "    @constraint(model, sum(al, dims=(2,3)) .>= 1)\n",
    "    for (i, group) in enumerate(ALab)\n",
    "        @constraint(model, [d=1:7, t=1:45, s in group, t1=t:t+3], al[i,d,t] <= x[s, 4, d, t1])\n",
    "    end\n",
    "    \n",
    "    # Edge\n",
    "    @constraint(model, sum(ed, dims=(2,3)) .>= 1)\n",
    "    for (i, group) in enumerate(Edge)\n",
    "        @constraint(model, [d=1:7, t=1:45, s in group, t1=t:t+3], ed[i,d,t] <= x[s, 5, d, t1])\n",
    "    end\n",
    "    \n",
    "    # ML\n",
    "    @constraint(model, sum(ml, dims=(2,3)) .>= 1)\n",
    "    for (i, group) in enumerate(ML)\n",
    "        @constraint(model, [d=1:7, t=1:45, s in group, t1=t:t+3], ml[i,d,t] <= x[s, 6, d, t1])\n",
    "    end\n",
    "    \n",
    "    # Opt\n",
    "    @constraint(model, sum(opt, dims=(2,3)) .>= 1)\n",
    "    for (i, group) in enumerate(Opt)\n",
    "        @constraint(model, [d=1:7, t=1:45, s in group, t1=t:t+3], opt[i,d,t] <= x[s, 7, d, t1])\n",
    "    end\n",
    "    \n",
    "    # students who are doing RA need to work on research for at least 10h per week\n",
    "    @constraint(model, [s=RA_students], sum(sum(x[s,8,:,:])).>=10)\n",
    "    \n",
    "    # at the moment, we allocating time for eating during weekdays as follows: \n",
    "    #breakfast 7am-8am (including morning bathroom), lunch 12:30pm-1pm, dinner (we leave it as a decision to students)\n",
    "    @constraint(model, [s=1:n_S, d=1:5], x[s,9,d,vcat(15:16, 26)].==1)\n",
    "    #on Saturday and on Saturday, time allocated for eating is as follows:\n",
    "    #breakfast 10am-11am (including morning bathroom), lunch 3pm-4pm, dinner (we leave it as a decision to students)\n",
    "    @constraint(model, [s=1:n_S, d=6:7], x[s,9,d,vcat(21:22, 31:32)].==1)\n",
    "    \n",
    "    #students need to study (homeworks, individual project work, study lecture material) for at least 44h per week (estimated based on MIT Registrar's Office)\n",
    "    @constraint(model, [s=1:n_S], sum(sum(x[s,10,:,:])).>=44)\n",
    "    \n",
    "    #### Personal \n",
    "    #MBAn Leadership Student Council\n",
    "    @constraint(model, [s=Leadership_students], x[s,11,4,vcat(24:25)].==1)\n",
    "    \n",
    "    #Sloan senate\n",
    "    @constraint(model, [s=Sloan_senate], x[s,11,2,vcat(24:25)].==1)\n",
    "    \n",
    "    #MIT Sloan Football matches\n",
    "    @constraint(model, [s=Football_match], x[s,11,7,vcat(33:34, 39:42)].==1)\n",
    "    @constraint(model, [s=Football_match, d=[1,3]], x[s,11,d,vcat(43:46)].==1)\n",
    "\n",
    "    #Catholic mass \n",
    "    @constraint(model, [s=Catholic_mass], x[s,11,7,vcat(27:28)].==1)\n",
    "    \n",
    "    # objective is maximixing free time for now\n",
    "    @objective(model, Max, sum(free_time_weights.*x[:,2,:,:]))\n",
    "    \n",
    "    optimize!(model)\n",
    " \n",
    "    return value.(x), value.(al), value.(ed), value.(ml), value.(opt), model\n",
    "end"
   ]
  },
  {
   "cell_type": "code",
   "execution_count": 40,
   "id": "e3dbfe5e-1401-4e06-83b4-1a9bbebfa14a",
   "metadata": {},
   "outputs": [
    {
     "data": {
      "text/plain": [
       "7-element Vector{Vector{Any}}:\n",
       " [27, 28, 29, 33, 34, 35]\n",
       " [18, 19, 20]\n",
       " [27, 28, 29, 33, 34, 35]\n",
       " [18, 19, 20, 30, 31, 32, 33, 34, 35, 36, 37, 38]\n",
       " [19, 20, 22, 23, 29, 30]\n",
       " []\n",
       " []"
      ]
     },
     "execution_count": 40,
     "metadata": {},
     "output_type": "execute_result"
    }
   ],
   "source": [
    "Monday = vcat(27:29, 33:35)\n",
    "Tuesday = vcat(18:20)\n",
    "Wednesday = vcat(27:29, 33:35)\n",
    "Thursday = vcat(18:20, 30:38)\n",
    "Friday = vcat(19:20, 22:23, 29:30)\n",
    "Saturday = []\n",
    "Sunday = []\n",
    "Classes = [Monday, Tuesday, Wednesday, Thursday, Friday, Saturday, Sunday]"
   ]
  },
  {
   "cell_type": "code",
   "execution_count": 41,
   "id": "2ed1f897-451b-4eda-b8e1-a34828b4e116",
   "metadata": {
    "jupyter": {
     "outputs_hidden": true
    },
    "tags": []
   },
   "outputs": [
    {
     "name": "stdout",
     "output_type": "stream",
     "text": [
      "Set parameter TimeLimit to value 20\r\n",
      "Set parameter MIPGap to value 0.005\r\n",
      "Set parameter MIPGap to value 0.005\r\n",
      "Set parameter TimeLimit to value 20\r\n",
      "Gurobi Optimizer version 9.5.2 build v9.5.2rc0 (win64)\r\n",
      "Thread count: 8 physical cores, 16 logical processors, using up to 16 threads\r\n",
      "Optimize a model with 247701 rows, 207417 columns and 540799 nonzeros\r\n",
      "Model fingerprint: 0x66f9ea48\r\n",
      "Model has 15792 SOS constraints\r\n",
      "Variable types: 0 continuous, 207417 integer (207417 binary)\r\n",
      "Coefficient statistics:\r\n",
      "  Matrix range     [1e+00, 1e+00]\r\n",
      "  Objective range  [1e+00, 5e+00]\r\n",
      "  Bounds range     [0e+00, 0e+00]\r\n",
      "  RHS range        [1e+00, 4e+01]\r\n",
      "Presolve removed 169164 rows and 166279 columns\r\n",
      "Presolve time: 1.98s\r\n",
      "Presolved: 78537 rows, 41138 columns, 197980 nonzeros\r\n",
      "Variable types: 0 continuous, 41138 integer (41036 binary)\r\n",
      "Found heuristic solution: objective 16806.000000\r\n",
      "\r\n",
      "Deterministic concurrent LP optimizer: primal and dual simplex (primal and dual model)\r\n",
      "Showing first log only...\r\n",
      "\r\n",
      "Root relaxation presolved: 78537 rows, 41138 columns, 197980 nonzeros\r\n",
      "\r\n",
      "Concurrent spin time: 0.15s\r\n",
      "\r\n",
      "Solved with dual simplex (dual model)\r\n",
      "\r\n",
      "Root relaxation: objective 1.856789e+04, 13312 iterations, 1.03 seconds (0.70 work units)\r\n",
      "\r\n",
      "    Nodes    |    Current Node    |     Objective Bounds      |     Work\r\n",
      " Expl Unexpl |  Obj  Depth IntInf | Incumbent    BestBd   Gap | It/Node Time\r\n",
      "\r\n",
      "     0     0 18567.8853    0 3708 16806.0000 18567.8853  10.5%     -    3s\r\n",
      "H    0     0                    17132.000000 18567.8853  8.38%     -    3s\r\n",
      "     0     0 18494.9119    0 3954 17132.0000 18494.9119  7.96%     -    5s\r\n",
      "     0     0 18490.2599    0 3729 17132.0000 18490.2599  7.93%     -    9s\r\n",
      "     0     0 18488.4907    0 3562 17132.0000 18488.4907  7.92%     -    9s\r\n",
      "     0     0 18488.1647    0 3553 17132.0000 18488.1647  7.92%     -    9s\r\n",
      "     0     0 18487.9912    0 3500 17132.0000 18487.9912  7.91%     -    9s\r\n",
      "     0     0 18487.9614    0 3500 17132.0000 18487.9614  7.91%     -    9s\r\n",
      "     0     0 18487.7895    0 3500 17132.0000 18487.7895  7.91%     -    9s\r\n",
      "     0     0 18472.4606    0 3867 17132.0000 18472.4606  7.82%     -   10s\r\n",
      "     0     0 18470.0401    0 3647 17132.0000 18470.0401  7.81%     -   10s\r\n",
      "     0     0 18469.4832    0 3539 17132.0000 18469.4832  7.81%     -   11s\r\n",
      "     0     0 18469.2100    0 3477 17132.0000 18469.2100  7.81%     -   11s\r\n",
      "     0     0 18468.9567    0 3387 17132.0000 18468.9567  7.80%     -   11s\r\n",
      "     0     0 18468.9443    0 3387 17132.0000 18468.9443  7.80%     -   11s\r\n",
      "     0     0 18428.8747    0 4796 17132.0000 18428.8747  7.57%     -   13s\r\n",
      "     0     0 18415.1325    0 5365 17132.0000 18415.1325  7.49%     -   14s\r\n",
      "     0     0 18407.1364    0 5711 17132.0000 18407.1364  7.44%     -   14s\r\n",
      "     0     0 18400.3777    0 5842 17132.0000 18400.3777  7.40%     -   14s\r\n",
      "     0     0 18394.6162    0 6047 17132.0000 18394.6162  7.37%     -   15s\r\n",
      "     0     0 18391.7645    0 6181 17132.0000 18391.7645  7.35%     -   15s\r\n",
      "     0     0 18390.4212    0 6393 17132.0000 18390.4212  7.35%     -   15s\r\n",
      "     0     0 18389.3215    0 6425 17132.0000 18389.3215  7.34%     -   15s\r\n",
      "     0     0 18388.3205    0 6622 17132.0000 18388.3205  7.33%     -   16s\r\n",
      "     0     0 18387.5930    0 6637 17132.0000 18387.5930  7.33%     -   16s\r\n",
      "     0     0 18387.3333    0 6467 17132.0000 18387.3333  7.33%     -   16s\r\n",
      "     0     0 18386.9777    0 6504 17132.0000 18386.9777  7.33%     -   16s\r\n",
      "     0     0 18386.8002    0 6564 17132.0000 18386.8002  7.32%     -   16s\r\n",
      "     0     0 18386.6645    0 6538 17132.0000 18386.6645  7.32%     -   16s\r\n",
      "     0     0 18386.6076    0 6486 17132.0000 18386.6076  7.32%     -   17s\r\n",
      "     0     0 18386.4414    0 6477 17132.0000 18386.4414  7.32%     -   17s\r\n",
      "     0     0 18386.3995    0 6491 17132.0000 18386.3995  7.32%     -   17s\r\n",
      "     0     0          -    0      17132.0000 18386.3995  7.32%     -   20s\r\n",
      "\r\n",
      "Cutting planes:\r\n",
      "  Gomory: 46\r\n",
      "  MIR: 83\r\n",
      "  StrongCG: 1\r\n",
      "  Zero half: 742\r\n",
      "  RLT: 194\r\n",
      "\r\n",
      "Explored 1 nodes (40842 simplex iterations) in 20.04 seconds (16.63 work units)\r\n",
      "Thread count was 16 (of 16 available processors)\r\n",
      "\r\n",
      "Solution count 2: 17132 16806 \r\n",
      "\r\n",
      "Time limit reached\r\n",
      "Best objective 1.713200000000e+04, best bound 1.838600000000e+04, gap 7.3196%\r\n",
      "\r\n",
      "User-callback calls 3589, time in user-callback 0.01 sec\r\n",
      " 24.704261 seconds (23.24 M allocations: 1.991 GiB, 3.74% gc time, 10.25% compilation time)\n"
     ]
    }
   ],
   "source": [
    "@time x, al, ed, ml, opt, m = freetime_model([1,2,3,4,5,6,7,8,9,10,11], Students, Classes, ALab, Edge, ML, Opt);"
   ]
  },
  {
   "cell_type": "markdown",
   "id": "c32bc31f",
   "metadata": {},
   "source": [
    "## Checking results for a given student, activity, day or hour"
   ]
  },
  {
   "cell_type": "code",
   "execution_count": 42,
   "id": "6a14604e",
   "metadata": {},
   "outputs": [
    {
     "name": "stdout",
     "output_type": "stream",
     "text": [
      "[0.0, 0.0, 0.0, 0.0, 0.0, 0.0, 0.0, 0.0, 0.0, 0.0, 0.0, 0.0, 0.0, 0.0, 0.0, 0.0, 1.0, 1.0, 0.0, 0.0, 0.0, 0.0, 0.0, 0.0, 0.0, 0.0, 0.0, 0.0, 0.0, 0.0, 0.0, 0.0, 0.0, 0.0, 1.0, 1.0, 1.0, 1.0, 1.0, 1.0, 1.0, 1.0, 1.0, 1.0, 1.0, 1.0, 1.0, 1.0]"
     ]
    }
   ],
   "source": [
    "show(value.(x)[1,2,5,:])"
   ]
  },
  {
   "cell_type": "code",
   "execution_count": 43,
   "id": "41dfc415",
   "metadata": {},
   "outputs": [
    {
     "data": {
      "text/plain": [
       "7-element Vector{Float64}:\n",
       " -0.0\n",
       "  0.0\n",
       " -0.0\n",
       "  0.0\n",
       "  0.0\n",
       "  0.0\n",
       "  0.0"
      ]
     },
     "execution_count": 43,
     "metadata": {},
     "output_type": "execute_result"
    }
   ],
   "source": [
    "value.(x)[1,8,:,20]"
   ]
  }
 ],
 "metadata": {
  "kernelspec": {
   "display_name": "Julia 1.8.0",
   "language": "julia",
   "name": "julia-1.8"
  },
  "language_info": {
   "file_extension": ".jl",
   "mimetype": "application/julia",
   "name": "julia",
   "version": "1.8.0"
  }
 },
 "nbformat": 4,
 "nbformat_minor": 5
}
