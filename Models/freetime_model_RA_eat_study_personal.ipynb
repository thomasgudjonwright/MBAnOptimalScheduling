{
 "cells": [
  {
   "cell_type": "markdown",
   "id": "792f4c4f",
   "metadata": {},
   "source": [
    "What is changed from the last notebook?\n",
    "- Added some personal constraints\n",
    "- Lunch from 12:30 to 1pm\n",
    "\n",
    "Assumptions:\n",
    "- Even though Analytics Lab has a smaller number of units (9 in comparison to 12 for ML, Opt, and Edge), it is very project-oriented which is why we assume that it requires the same amount of time for project meetings\n",
    "- Study time (homeworks, individual project work, study lecture material) for each subject was estimated based on MIT Registrar's Office (lecture - office hours - project)\n",
    "\n",
    "ML: 3-1-8 -> Estimation study time: homeworks (5) + individual project work (8-2=6) + study lecture material (3)\n",
    "\n",
    "Opt: 4-0-8 -> Estimation study time:  homeworks (5) + individual project work (8-2=6) + study lecture material (3)\n",
    "\n",
    "A-Lab: 2-0-7 -> Estimation study time: homeworks (0) + individual project work (7-2=5) + study lecture material (0)\n",
    "\n",
    "Edge: 4-0-8 -> Estimation study time: homeworks (3) + individual project work (8-2=6) + study lecture material (2)\n",
    "\n",
    "SUM of all hours: 44\n"
   ]
  },
  {
   "cell_type": "code",
   "execution_count": 15,
   "id": "bc6d2071-6ea9-45e6-8661-aa00eb7b75f8",
   "metadata": {},
   "outputs": [],
   "source": [
    "using JuMP, Gurobi, CSV, Tables"
   ]
  },
  {
   "cell_type": "code",
   "execution_count": 16,
   "id": "d7a57d28-7e64-4f6e-9712-8b606b19b9fd",
   "metadata": {},
   "outputs": [],
   "source": [
    "Students_raw = CSV.File(\"../Data/Name_dict.csv\", header=false) |> Tables.matrix;\n",
    "ALab_raw = CSV.File(\"../Data/Teams_ALab.csv\", header=false) |> Tables.matrix;\n",
    "Edge_raw = CSV.File(\"../Data/Teams_Edge.csv\", header=false) |> Tables.matrix;\n",
    "ML_raw = CSV.File(\"../Data/Teams_ML.csv\", header=false) |> Tables.matrix;\n",
    "Opt_raw = CSV.File(\"../Data/Teams_Opt.csv\", header=false) |> Tables.matrix;\n",
    "RA_students = [1,2,4,5,6,8,10,12,15,20,36,41,46];\n",
    "\n",
    "#Personalized constraints\n",
    "Leadership_students = [2, 12,21, 24, 30,31,34,44];\n",
    "Sloan_senate = [2, 26];\n",
    "Football_match = [23, 29];\n",
    "Catholic_mass = [1];"
   ]
  },
  {
   "cell_type": "code",
   "execution_count": 17,
   "id": "4449cf48-c42a-40e7-aac8-d441a5798838",
   "metadata": {},
   "outputs": [],
   "source": [
    "Students = hcat(parse.(Float64, Students_raw[2:end,1]),Students_raw[2:end,2])\n",
    "ALab = parse.(Int64, ALab_raw[2:end,:]);\n",
    "Edge = parse.(Int64, Edge_raw[2:end,:]);\n",
    "ML = parse.(Int64, ML_raw[2:end,:]);\n",
    "Opt = parse.(Int64, Opt_raw[2:end,:]);"
   ]
  },
  {
   "cell_type": "code",
   "execution_count": 18,
   "id": "842c9f9e-ff62-467d-a6a1-d0a62927dd2b",
   "metadata": {},
   "outputs": [
    {
     "data": {
      "text/plain": [
       "get_groups (generic function with 1 method)"
      ]
     },
     "execution_count": 18,
     "metadata": {},
     "output_type": "execute_result"
    }
   ],
   "source": [
    "function get_groups(mat)\n",
    "    n = size(mat, 1)\n",
    "    new_mat = []\n",
    "    for i in 1:n\n",
    "        inds = findall(x->x!=99, mat[i,:])\n",
    "        push!(new_mat, Int.(mat[i,inds]))\n",
    "    end\n",
    "    return new_mat\n",
    "end"
   ]
  },
  {
   "cell_type": "code",
   "execution_count": 19,
   "id": "727c1597-2d51-444b-8a86-fd5d39cb249a",
   "metadata": {},
   "outputs": [],
   "source": [
    "ALab = get_groups(ALab);\n",
    "Edge = get_groups(Edge);\n",
    "ML = get_groups(ML);\n",
    "Opt = get_groups(Opt);"
   ]
  },
  {
   "cell_type": "code",
   "execution_count": 20,
   "id": "f97071ce-d599-42f8-a35b-768789b9f9f4",
   "metadata": {},
   "outputs": [
    {
     "name": "stdout",
     "output_type": "stream",
     "text": [
      "Set parameter Username\r\n",
      "Academic license - for non-commercial use only - expires 2023-08-14\r\n"
     ]
    }
   ],
   "source": [
    "env = Gurobi.Env();"
   ]
  },
  {
   "cell_type": "markdown",
   "id": "23e6a758-d994-448c-8ca0-59d458ab26b1",
   "metadata": {},
   "source": [
    "**Activities**: {  \n",
    "    1 := sleep,  \n",
    "    2 := free time,  \n",
    "    3 := class,  \n",
    "    4 := ALab meeting,  \n",
    "    5 := Edge meeting,  \n",
    "    6 := ML meeting,  \n",
    "    7 := Opt meeting,  \n",
    "    8 := RA work,  \n",
    "    9 := eat,  \n",
    "    10 := study,  \n",
    "    11 := personal\n",
    "}"
   ]
  },
  {
   "cell_type": "code",
   "execution_count": 26,
   "id": "48bedcf4-c540-4033-8b9e-d8590314ceaa",
   "metadata": {},
   "outputs": [
    {
     "data": {
      "text/plain": [
       "freetime_model (generic function with 1 method)"
      ]
     },
     "execution_count": 26,
     "metadata": {},
     "output_type": "execute_result"
    }
   ],
   "source": [
    "```\n",
    "A := activities\n",
    "S := students\n",
    "C := class time periods \n",
    "```\n",
    "function freetime_model(A, S, C, ALab, Edge, ML, Opt)\n",
    "    \n",
    "    model = Model(() -> Gurobi.Optimizer(env)) ;\n",
    "    set_time_limit_sec(model, 20)\n",
    "    set_optimizer_attribute(model, \"OutputFlag\", 1)\n",
    "    set_optimizer_attribute(model, \"MIPGap\", 5e-3)\n",
    "    \n",
    "    n_A = length(A)\n",
    "    n_S = size(S, 1)\n",
    "    n_al = length(ALab)\n",
    "    n_ed = length(Edge)\n",
    "    n_ml = length(ML)\n",
    "    n_opt = length(Opt)\n",
    "    \n",
    "    #initializing weights for free time as 1 (at the end we will value free time durng 9am-5pm from Monday to Friday as 1 - baseline)\n",
    "    free_time_weights = ones(Float16, (size(Students, 1),7,48))\n",
    "    \n",
    "    #free time during: \n",
    "    #8am-9am from Monday to Friday | 5-11pm from Monday to Thursday | 11am-5pm from Saturday | 11am-11pm Sunday\n",
    "    #is consdered 3 times more valuable\n",
    "    for s in 1:size(Students, 1)\n",
    "        for d in 1:5\n",
    "            free_time_weights[CartesianIndex.(s,d,17:18)] .= 3\n",
    "        end\n",
    "        for d in 1:4\n",
    "            free_time_weights[CartesianIndex.(s,d,35:46)] .= 3\n",
    "        end\n",
    "        free_time_weights[CartesianIndex.(s,6,23:34)] .= 3\n",
    "        free_time_weights[CartesianIndex.(s,7,23:46)] .= 3\n",
    "    end\n",
    "    \n",
    "    #free time during: \n",
    "    #5pm - 11 pm from Friday and Saturday\n",
    "    #is consdered 5 times more valuable\n",
    "    for s in 1:size(Students, 1)\n",
    "        for d in 5:6\n",
    "            free_time_weights[CartesianIndex.(s,d,35:46)] .= 5\n",
    "        end\n",
    "    end\n",
    "    \n",
    "    # variable for student activities over time\n",
    "    @variable(model, x[1:n_S, 1:n_A, 1:7, 1:48], Bin)\n",
    "    \n",
    "    # variable for indicating if the group is all doing the correct meeting\n",
    "    @variable(model, al[1:n_al, 1:7, 1:45], Bin)\n",
    "    @variable(model, ed[1:n_ed, 1:7, 1:45], Bin)\n",
    "    @variable(model, ml[1:n_ml, 1:7, 1:45], Bin)\n",
    "    @variable(model, opt[1:n_opt, 1:7, 1:45], Bin)\n",
    "    \n",
    "    # Must do one activity at a time\n",
    "#     @constraint(model, [s=1:n_S], sum(x[s,:,:,:], dims=1) .== 1)\n",
    "    @constraint(model, [s=1:n_S, d=1:7, t=1:48], x[s,:,d,t] in SOS1())\n",
    "    \n",
    "    # at the moment, we allocating time for sleep between 11pm and 7am (8hrs) during weekdays\n",
    "    @constraint(model, [s=1:n_S, d=1:4], x[s,1,d,vcat(1:14,end-1:end)].==1)\n",
    "    #on Friday, time allocated for sleep in only until 7am\n",
    "    @constraint(model, [s=1:n_S], x[s,1,5,vcat(1:14)].==1)\n",
    "    #on Saturday, time allocated for sleep is from 1 am to 10 am \n",
    "    @constraint(model, [s=1:n_S], x[s,1,6,vcat(3:20)].==1)\n",
    "    #on Saturday, time allocated for sleep is from 1 am to 10 am and from 11pm \n",
    "    @constraint(model, [s=1:n_S], x[s,1,7,vcat(3:20,end-1:end)].==1)\n",
    "    \n",
    "    # at the moment, we are forcing students to attend classes\n",
    "    for day in 1:7\n",
    "        @constraint(model, [s=1:n_S], x[s,3,day,C[day]].==1)\n",
    "    end\n",
    "    \n",
    "    # ALab\n",
    "    @constraint(model, sum(al, dims=(2,3)) .>= 1)\n",
    "    for (i, group) in enumerate(ALab)\n",
    "        @constraint(model, [d=1:7, t=1:45, s in group, t1=t:t+3], al[i,d,t] <= x[s, 4, d, t1])\n",
    "    end\n",
    "    \n",
    "    # Edge\n",
    "    @constraint(model, sum(ed, dims=(2,3)) .>= 1)\n",
    "    for (i, group) in enumerate(Edge)\n",
    "        @constraint(model, [d=1:7, t=1:45, s in group, t1=t:t+3], ed[i,d,t] <= x[s, 5, d, t1])\n",
    "    end\n",
    "    \n",
    "    # ML\n",
    "    @constraint(model, sum(ml, dims=(2,3)) .>= 1)\n",
    "    for (i, group) in enumerate(ML)\n",
    "        @constraint(model, [d=1:7, t=1:45, s in group, t1=t:t+3], ml[i,d,t] <= x[s, 6, d, t1])\n",
    "    end\n",
    "    \n",
    "    # Opt\n",
    "    @constraint(model, sum(opt, dims=(2,3)) .>= 1)\n",
    "    for (i, group) in enumerate(Opt)\n",
    "        @constraint(model, [d=1:7, t=1:45, s in group, t1=t:t+3], opt[i,d,t] <= x[s, 7, d, t1])\n",
    "    end\n",
    "    \n",
    "    # students who are doing RA need to work on research for at least 10h per week\n",
    "    @constraint(model, [s=RA_students], sum(sum(x[s,8,:,:])).>=10)\n",
    "    \n",
    "    # at the moment, we allocating time for eating during weekdays as follows: \n",
    "    #breakfast 7am-8am (including morning bathroom), lunch 12:30pm-1pm, dinner (we leave it as a decision to students)\n",
    "    @constraint(model, [s=1:n_S, d=1:5], x[s,9,d,vcat(15:16, 26)].==1)\n",
    "    #on Saturday and on Saturday, time allocated for eating is as follows:\n",
    "    #breakfast 10am-11am (including morning bathroom), lunch 3pm-4pm, dinner (we leave it as a decision to students)\n",
    "    @constraint(model, [s=1:n_S, d=6:7], x[s,9,d,vcat(21:22, 31:32)].==1)\n",
    "    \n",
    "    #students need to study (homeworks, individual project work, study lecture material) for at least 44h per week (estimated based on MIT Registrar's Office)\n",
    "    @constraint(model, [s=1:n_S], sum(sum(x[s,10,:,:])).>=44)\n",
    "    \n",
    "    #### Personal \n",
    "    #MBAn Leadership Student Council\n",
    "    @constraint(model, [s=Leadership_students], x[s,11,4,vcat(24:25)].==1)\n",
    "    \n",
    "    #Sloan senate\n",
    "    @constraint(model, [s=Sloan_senate], x[s,11,2,vcat(24:25)].==1)\n",
    "    \n",
    "    #MIT Sloan Football matches\n",
    "    @constraint(model, [s=Football_match], x[s,11,7,vcat(33:34, 39:42)].==1)\n",
    "    @constraint(model, [s=Football_match, d=[1,3]], x[s,11,d,vcat(43:46)].==1)\n",
    "\n",
    "    #Catholic mass \n",
    "    @constraint(model, [s=Catholic_mass], x[s,11,7,vcat(27:28)].==1)\n",
    "    \n",
    "    # objective is maximixing free time for now\n",
    "    @objective(model, Max, sum(free_time_weights.*x[:,2,:,:]))\n",
    "    \n",
    "    optimize!(model)\n",
    " \n",
    "    return value.(x), value.(al), value.(ed), value.(ml), value.(opt), model\n",
    "end"
   ]
  },
  {
   "cell_type": "code",
   "execution_count": 27,
   "id": "e3dbfe5e-1401-4e06-83b4-1a9bbebfa14a",
   "metadata": {},
   "outputs": [
    {
     "data": {
      "text/plain": [
       "7-element Vector{Vector{Any}}:\n",
       " [27, 28, 29, 33, 34, 35]\n",
       " [18, 19, 20]\n",
       " [27, 28, 29, 33, 34, 35]\n",
       " [18, 19, 20, 30, 31, 32, 33, 34, 35, 36, 37, 38]\n",
       " [19, 20, 22, 23, 29, 30]\n",
       " []\n",
       " []"
      ]
     },
     "execution_count": 27,
     "metadata": {},
     "output_type": "execute_result"
    }
   ],
   "source": [
    "Monday = vcat(27:29, 33:35)\n",
    "Tuesday = vcat(18:20)\n",
    "Wednesday = vcat(27:29, 33:35)\n",
    "Thursday = vcat(18:20, 30:38)\n",
    "Friday = vcat(19:20, 22:23, 29:30)\n",
    "Saturday = []\n",
    "Sunday = []\n",
    "Classes = [Monday, Tuesday, Wednesday, Thursday, Friday, Saturday, Sunday]"
   ]
  },
  {
   "cell_type": "code",
   "execution_count": 30,
   "id": "2ed1f897-451b-4eda-b8e1-a34828b4e116",
   "metadata": {
    "jupyter": {
     "outputs_hidden": true
    },
    "tags": []
   },
   "outputs": [
    {
     "name": "stdout",
     "output_type": "stream",
     "text": [
      "Set parameter TimeLimit to value 20\r\n",
      "Set parameter MIPGap to value 0.005\r\n",
      "Set parameter MIPGap to value 0.005\r\n",
      "Set parameter TimeLimit to value 20\r\n",
      "Gurobi Optimizer version 9.5.2 build v9.5.2rc0 (win64)\r\n",
      "Thread count: 8 physical cores, 16 logical processors, using up to 16 threads\r\n",
      "Optimize a model with 247701 rows, 207417 columns and 540799 nonzeros\r\n",
      "Model fingerprint: 0xa2f94a62\r\n",
      "Model has 15792 SOS constraints\r\n",
      "Variable types: 0 continuous, 207417 integer (207417 binary)\r\n",
      "Coefficient statistics:\r\n",
      "  Matrix range     [1e+00, 1e+00]\r\n",
      "  Objective range  [1e+00, 5e+00]\r\n",
      "  Bounds range     [0e+00, 0e+00]\r\n",
      "  RHS range        [1e+00, 4e+01]\r\n",
      "Presolve removed 169164 rows and 166313 columns\r\n",
      "Presolve time: 1.80s\r\n",
      "Presolved: 78537 rows, 41104 columns, 197946 nonzeros\r\n",
      "Variable types: 0 continuous, 41104 integer (41036 binary)\r\n",
      "Found heuristic solution: objective 16088.000000\r\n",
      "\r\n",
      "Deterministic concurrent LP optimizer: primal and dual simplex (primal and dual model)\r\n",
      "Showing first log only...\r\n",
      "\r\n",
      "Root relaxation presolved: 78537 rows, 41104 columns, 197946 nonzeros\r\n",
      "\r\n",
      "Concurrent spin time: 0.09s\r\n",
      "\r\n",
      "Solved with dual simplex (dual model)\r\n",
      "\r\n",
      "Root relaxation: objective 1.727648e+04, 12546 iterations, 0.93 seconds (0.66 work units)\r\n",
      "\r\n",
      "    Nodes    |    Current Node    |     Objective Bounds      |     Work\r\n",
      " Expl Unexpl |  Obj  Depth IntInf | Incumbent    BestBd   Gap | It/Node Time\r\n",
      "\r\n",
      "     0     0 17276.4765    0 2788 16088.0000 17276.4765  7.39%     -    3s\r\n",
      "H    0     0                    16276.000000 17276.4765  6.15%     -    3s\r\n",
      "H    0     0                    16286.000000 17276.4765  6.08%     -    3s\r\n",
      "     0     0 17226.0951    0 3154 16286.0000 17226.0951  5.77%     -    4s\r\n",
      "H    0     0                    16342.000000 17226.0951  5.41%     -    8s\r\n",
      "     0     0 17220.0358    0 2978 16342.0000 17220.0358  5.37%     -    8s\r\n",
      "     0     0 17218.3700    0 2707 16342.0000 17218.3700  5.36%     -    8s\r\n",
      "     0     0 17218.3166    0 2738 16342.0000 17218.3166  5.36%     -    8s\r\n",
      "     0     0 17218.2254    0 2745 16342.0000 17218.2254  5.36%     -    8s\r\n",
      "     0     0 17218.1366    0 2742 16342.0000 17218.1366  5.36%     -    8s\r\n",
      "     0     0 17218.1246    0 2772 16342.0000 17218.1246  5.36%     -    8s\r\n",
      "     0     0 17218.1246    0 2772 16342.0000 17218.1246  5.36%     -    8s\r\n",
      "     0     0 17210.4176    0 3387 16342.0000 17210.4176  5.31%     -    9s\r\n",
      "     0     0 17208.8981    0 2991 16342.0000 17208.8981  5.30%     -    9s\r\n",
      "     0     0 17207.7707    0 2996 16342.0000 17207.7707  5.30%     -    9s\r\n",
      "     0     0 17207.3268    0 3032 16342.0000 17207.3268  5.30%     -    9s\r\n",
      "     0     0 17207.2950    0 3026 16342.0000 17207.2950  5.29%     -   10s\r\n",
      "     0     0 17207.1883    0 2942 16342.0000 17207.1883  5.29%     -   10s\r\n",
      "     0     0 17207.1588    0 2948 16342.0000 17207.1588  5.29%     -   10s\r\n",
      "     0     0 17207.1145    0 2976 16342.0000 17207.1145  5.29%     -   10s\r\n",
      "     0     0 17207.1145    0 2976 16342.0000 17207.1145  5.29%     -   10s\r\n",
      "     0     0 17174.0604    0 4002 16342.0000 17174.0604  5.09%     -   11s\r\n",
      "     0     0 17161.0486    0 4212 16342.0000 17161.0486  5.01%     -   12s\r\n",
      "     0     0 17152.1988    0 4377 16342.0000 17152.1988  4.96%     -   12s\r\n",
      "     0     0 17143.1779    0 5112 16342.0000 17143.1779  4.90%     -   12s\r\n",
      "     0     0 17138.6269    0 5352 16342.0000 17138.6269  4.87%     -   13s\r\n",
      "     0     0 17135.9678    0 5311 16342.0000 17135.9678  4.86%     -   13s\r\n",
      "     0     0 17132.9302    0 5528 16342.0000 17132.9302  4.84%     -   13s\r\n",
      "     0     0 17131.1760    0 5774 16342.0000 17131.1760  4.83%     -   13s\r\n",
      "     0     0 17130.3281    0 5850 16342.0000 17130.3281  4.82%     -   14s\r\n",
      "     0     0 17129.6868    0 5881 16342.0000 17129.6868  4.82%     -   14s\r\n",
      "     0     0 17128.8819    0 6038 16342.0000 17128.8819  4.82%     -   14s\r\n",
      "     0     0 17128.4259    0 6018 16342.0000 17128.4259  4.81%     -   14s\r\n",
      "     0     0 17128.3961    0 6063 16342.0000 17128.3961  4.81%     -   14s\r\n",
      "     0     0 17113.2967    0 5796 16342.0000 17113.2967  4.72%     -   17s\r\n",
      "     0     0 17103.4618    0 5695 16342.0000 17103.4618  4.66%     -   17s\r\n",
      "     0     0 17098.4796    0 5770 16342.0000 17098.4796  4.63%     -   18s\r\n",
      "     0     0 17094.7339    0 5789 16342.0000 17094.7339  4.61%     -   18s\r\n",
      "     0     0 17091.9686    0 6022 16342.0000 17091.9686  4.59%     -   19s\r\n",
      "     0     0 17090.0311    0 6113 16342.0000 17090.0311  4.58%     -   19s\r\n",
      "     0     0 17088.7669    0 6093 16342.0000 17088.7669  4.57%     -   19s\r\n",
      "     0     0 17087.9399    0 6079 16342.0000 17087.9399  4.56%     -   19s\r\n",
      "\r\n",
      "Cutting planes:\r\n",
      "  Gomory: 44\r\n",
      "  Cover: 3\r\n",
      "  MIR: 96\r\n",
      "  StrongCG: 1\r\n",
      "  GUB cover: 2\r\n",
      "  Zero half: 904\r\n",
      "  RLT: 284\r\n",
      "\r\n",
      "Explored 1 nodes (38366 simplex iterations) in 20.05 seconds (15.84 work units)\r\n",
      "Thread count was 16 (of 16 available processors)\r\n",
      "\r\n",
      "Solution count 4: 16342 16286 16276 16088 \r\n",
      "\r\n",
      "Time limit reached\r\n",
      "Best objective 1.634200000000e+04, best bound 1.708700000000e+04, gap 4.5588%\r\n",
      "\r\n",
      "User-callback calls 3389, time in user-callback 0.00 sec\r\n",
      " 22.183586 seconds (16.16 M allocations: 1.617 GiB, 2.16% gc time, 1.28% compilation time)\n"
     ]
    }
   ],
   "source": [
    "@time x, al, ed, ml, opt, m = freetime_model([1,2,3,4,5,6,7,8,9,10,11], Students, Classes, ALab, Edge, ML, Opt);"
   ]
  },
  {
   "cell_type": "markdown",
   "id": "c32bc31f",
   "metadata": {},
   "source": [
    "## Checking results for a given student, activity, day or hour"
   ]
  },
  {
   "cell_type": "code",
   "execution_count": 31,
   "id": "6a14604e",
   "metadata": {},
   "outputs": [
    {
     "name": "stdout",
     "output_type": "stream",
     "text": [
      "[0.0, 0.0, 0.0, 0.0, 0.0, 0.0, 0.0, 0.0, 0.0, 0.0, 0.0, 0.0, 0.0, 0.0, 0.0, 0.0, 0.0, 1.0, 0.0, 0.0, 0.0, 0.0, 0.0, 0.0, 0.0, 0.0, 0.0, 0.0, 0.0, 0.0, 0.0, 0.0, 0.0, 0.0, 1.0, 1.0, 1.0, 1.0, 1.0, 1.0, 1.0, 1.0, 1.0, 1.0, 1.0, 1.0, 0.0, 0.0]"
     ]
    }
   ],
   "source": [
    "show(value.(x)[1,2,5,:])"
   ]
  },
  {
   "cell_type": "code",
   "execution_count": 32,
   "id": "41dfc415",
   "metadata": {},
   "outputs": [
    {
     "data": {
      "text/plain": [
       "7-element Vector{Float64}:\n",
       " -0.0\n",
       "  0.0\n",
       " -0.0\n",
       "  0.0\n",
       "  0.0\n",
       "  0.0\n",
       "  0.0"
      ]
     },
     "execution_count": 32,
     "metadata": {},
     "output_type": "execute_result"
    }
   ],
   "source": [
    "value.(x)[1,8,:,20]"
   ]
  }
 ],
 "metadata": {
  "kernelspec": {
   "display_name": "Julia 1.8.0",
   "language": "julia",
   "name": "julia-1.8"
  },
  "language_info": {
   "file_extension": ".jl",
   "mimetype": "application/julia",
   "name": "julia",
   "version": "1.8.0"
  }
 },
 "nbformat": 4,
 "nbformat_minor": 5
}
