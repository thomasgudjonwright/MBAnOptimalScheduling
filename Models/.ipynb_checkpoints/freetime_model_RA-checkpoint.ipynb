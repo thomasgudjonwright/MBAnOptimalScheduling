{
 "cells": [
  {
   "cell_type": "markdown",
   "id": "f63d52af",
   "metadata": {},
   "source": [
    "What is changed from the last notebook?\n",
    "- model optimized for the newest/final data gathered from MBAn class\n",
    "- students who are doing RA are required to work on it at least 10h per week\n",
    "- recitations on Friday are required + improved small mistakes from other days\n",
    "- allocating more time for sleep during weekends (10 hours instead of 8 hours)\n",
    "- free time on weekends is 5 times more valuable than free time during weekdays\n",
    "\n",
    "TO DO:\n",
    "- private contraints for each student e.g. praying time\n",
    "\n",
    "Assumptions:\n",
    "- Even though Analytics Lab has a smaller number of units (9 in comparison to 12 for ML, Opt, and Edge), it is very project-oriented which is why we assume that it requires the same amount of time for project meetings\n"
   ]
  },
  {
   "cell_type": "code",
   "execution_count": 23,
   "id": "bc6d2071-6ea9-45e6-8661-aa00eb7b75f8",
   "metadata": {},
   "outputs": [],
   "source": [
    "using JuMP, Gurobi, CSV, Tables"
   ]
  },
  {
   "cell_type": "code",
   "execution_count": 24,
   "id": "d7a57d28-7e64-4f6e-9712-8b606b19b9fd",
   "metadata": {},
   "outputs": [],
   "source": [
    "Students_raw = CSV.File(\"../Data/Name_dict.csv\", header=false) |> Tables.matrix;\n",
    "ALab_raw = CSV.File(\"../Data/Teams_ALab.csv\", header=false) |> Tables.matrix;\n",
    "Edge_raw = CSV.File(\"../Data/Teams_Edge.csv\", header=false) |> Tables.matrix;\n",
    "ML_raw = CSV.File(\"../Data/Teams_ML.csv\", header=false) |> Tables.matrix;\n",
    "Opt_raw = CSV.File(\"../Data/Teams_Opt.csv\", header=false) |> Tables.matrix;\n",
    "RA_students = [1,2,4,5,6,8,10,12,15,20,36,41,46];"
   ]
  },
  {
   "cell_type": "code",
   "execution_count": 25,
   "id": "4449cf48-c42a-40e7-aac8-d441a5798838",
   "metadata": {},
   "outputs": [],
   "source": [
    "Students = hcat(parse.(Float64, Students_raw[2:end,1]),Students_raw[2:end,2])\n",
    "ALab = parse.(Int64, ALab_raw[2:end,:]);\n",
    "Edge = parse.(Int64, Edge_raw[2:end,:]);\n",
    "ML = parse.(Int64, ML_raw[2:end,:]);\n",
    "Opt = parse.(Int64, Opt_raw[2:end,:]);"
   ]
  },
  {
   "cell_type": "code",
   "execution_count": 26,
   "id": "842c9f9e-ff62-467d-a6a1-d0a62927dd2b",
   "metadata": {},
   "outputs": [
    {
     "data": {
      "text/plain": [
       "get_groups (generic function with 1 method)"
      ]
     },
     "execution_count": 26,
     "metadata": {},
     "output_type": "execute_result"
    }
   ],
   "source": [
    "function get_groups(mat)\n",
    "    n = size(mat, 1)\n",
    "    new_mat = []\n",
    "    for i in 1:n\n",
    "        inds = findall(x->x!=99, mat[i,:])\n",
    "        push!(new_mat, Int.(mat[i,inds]))\n",
    "    end\n",
    "    return new_mat\n",
    "end"
   ]
  },
  {
   "cell_type": "code",
   "execution_count": 27,
   "id": "727c1597-2d51-444b-8a86-fd5d39cb249a",
   "metadata": {},
   "outputs": [],
   "source": [
    "ALab = get_groups(ALab);\n",
    "Edge = get_groups(Edge);\n",
    "ML = get_groups(ML);\n",
    "Opt = get_groups(Opt);"
   ]
  },
  {
   "cell_type": "code",
   "execution_count": 28,
   "id": "f97071ce-d599-42f8-a35b-768789b9f9f4",
   "metadata": {},
   "outputs": [
    {
     "name": "stdout",
     "output_type": "stream",
     "text": [
      "Set parameter Username\r\n",
      "Academic license - for non-commercial use only - expires 2023-08-14\r\n"
     ]
    }
   ],
   "source": [
    "env = Gurobi.Env();"
   ]
  },
  {
   "cell_type": "markdown",
   "id": "23e6a758-d994-448c-8ca0-59d458ab26b1",
   "metadata": {},
   "source": [
    "**Activities**: {  \n",
    "    1 := sleep,  \n",
    "    2 := free time,  \n",
    "    3 := class,  \n",
    "    4 := ALab meeting,  \n",
    "    5 := Edge meeting,  \n",
    "    6 := ML meeting,  \n",
    "    7 := Opt meeting,\n",
    "    8 := RA work\n",
    "}"
   ]
  },
  {
   "cell_type": "code",
   "execution_count": 89,
   "id": "48bedcf4-c540-4033-8b9e-d8590314ceaa",
   "metadata": {},
   "outputs": [
    {
     "data": {
      "text/plain": [
       "freetime_model (generic function with 1 method)"
      ]
     },
     "execution_count": 89,
     "metadata": {},
     "output_type": "execute_result"
    }
   ],
   "source": [
    "```\n",
    "A := activities\n",
    "S := students\n",
    "C := class time periods \n",
    "```\n",
    "function freetime_model(A, S, C, ALab, Edge, ML, Opt)\n",
    "    \n",
    "    model = Model(() -> Gurobi.Optimizer(env)) ;\n",
    "    set_time_limit_sec(model, 10)\n",
    "    set_optimizer_attribute(model, \"OutputFlag\", 1)\n",
    "    set_optimizer_attribute(model, \"MIPGap\", 5e-3)\n",
    "    \n",
    "    n_A = length(A)\n",
    "    n_S = size(S, 1)\n",
    "    n_al = length(ALab)\n",
    "    n_ed = length(Edge)\n",
    "    n_ml = length(ML)\n",
    "    n_opt = length(Opt)\n",
    "    \n",
    "    #initializing weights for free time as 1\n",
    "    free_time_weights = ones(Float16, (size(Students, 1),7,48))\n",
    "    \n",
    "    #free time during weekends is considered 5 times more valuable\n",
    "    for s in 1:size(Students, 1)\n",
    "        for d in 6:7\n",
    "            free_time_weights[CartesianIndex.(s,d,1:48)] .= 5\n",
    "        end\n",
    "    end\n",
    "    \n",
    "    # variable for student activities over time\n",
    "    @variable(model, x[1:n_S, 1:n_A, 1:7, 1:48], Bin)\n",
    "    \n",
    "    # variable for indicating if the group is all doing the correct meeting\n",
    "    @variable(model, al[1:n_al, 1:7, 1:45], Bin)\n",
    "    @variable(model, ed[1:n_ed, 1:7, 1:45], Bin)\n",
    "    @variable(model, ml[1:n_ml, 1:7, 1:45], Bin)\n",
    "    @variable(model, opt[1:n_opt, 1:7, 1:45], Bin)\n",
    "    \n",
    "    # Must do one activity at a time\n",
    "#     @constraint(model, [s=1:n_S], sum(x[s,:,:,:], dims=1) .== 1)\n",
    "    @constraint(model, [s=1:n_S, d=1:7, t=1:48], x[s,:,d,t] in SOS1())\n",
    "    \n",
    "    # at the moment, we allocating time for sleep between 11pm and 7am (8hrs) during weekdays\n",
    "    @constraint(model, [s=1:n_S, d=1:4], x[s,1,d,vcat(1:14,end-1:end)].==1)\n",
    "    #on Friday, time allocated for sleep starts at midnight :)\n",
    "    @constraint(model, [s=1:n_S], x[s,1,5,vcat(1:14)].==1)\n",
    "    #on Saturday, time allocated for sleep is until 10 am \n",
    "    @constraint(model, [s=1:n_S], x[s,1,6,vcat(1:20)].==1)\n",
    "    #on Saturday, time allocated for sleep is until 10 am and from 11pm \n",
    "    @constraint(model, [s=1:n_S], x[s,1,7,vcat(1:20,end-1:end)].==1)\n",
    "    \n",
    "    # at the moment, we are forcing students to attend classes\n",
    "    for day in 1:7\n",
    "        @constraint(model, [s=1:n_S], x[s,3,day,C[day]].==1)\n",
    "    end\n",
    "    \n",
    "    # ALab\n",
    "    @constraint(model, sum(al, dims=(2,3)) .>= 1)\n",
    "    for (i, group) in enumerate(ALab)\n",
    "        @constraint(model, [d=1:7, t=1:45, s in group, t1=t:t+3], al[i,d,t] <= x[s, 4, d, t1])\n",
    "    end\n",
    "    \n",
    "    # Edge\n",
    "    @constraint(model, sum(ed, dims=(2,3)) .>= 1)\n",
    "    for (i, group) in enumerate(Edge)\n",
    "        @constraint(model, [d=1:7, t=1:45, s in group, t1=t:t+3], ed[i,d,t] <= x[s, 5, d, t1])\n",
    "    end\n",
    "    \n",
    "    # ML\n",
    "    @constraint(model, sum(ml, dims=(2,3)) .>= 1)\n",
    "    for (i, group) in enumerate(ML)\n",
    "        @constraint(model, [d=1:7, t=1:45, s in group, t1=t:t+3], ml[i,d,t] <= x[s, 6, d, t1])\n",
    "    end\n",
    "    \n",
    "    # Opt\n",
    "    @constraint(model, sum(opt, dims=(2,3)) .>= 1)\n",
    "    for (i, group) in enumerate(Opt)\n",
    "        @constraint(model, [d=1:7, t=1:45, s in group, t1=t:t+3], opt[i,d,t] <= x[s, 7, d, t1])\n",
    "    end\n",
    "    \n",
    "    # students who are doing RA need to work on research for at least 10h per week\n",
    "    @constraint(model, [s=RA_students], sum(sum(x[s,8,:,:])).>=10)\n",
    "    \n",
    "    # objective is maximixing free time for now\n",
    "    @objective(model, Max, sum(free_time_weights.*x[:,2,:,:]))\n",
    "    \n",
    "    optimize!(model)\n",
    " \n",
    "    return value.(x), value.(al), value.(ed), value.(ml), value.(opt), model\n",
    "end"
   ]
  },
  {
   "cell_type": "code",
   "execution_count": 90,
   "id": "e3dbfe5e-1401-4e06-83b4-1a9bbebfa14a",
   "metadata": {},
   "outputs": [
    {
     "data": {
      "text/plain": [
       "7-element Vector{Vector{Any}}:\n",
       " [26, 27, 28, 32, 33, 34]\n",
       " [17, 18, 19]\n",
       " [26, 27, 28, 32, 33, 34]\n",
       " [17, 18, 19, 29, 30, 31, 32, 33, 34]\n",
       " [18, 19, 21, 22, 28, 29]\n",
       " []\n",
       " []"
      ]
     },
     "execution_count": 90,
     "metadata": {},
     "output_type": "execute_result"
    }
   ],
   "source": [
    "Monday = vcat(26:28, 32:34)\n",
    "Tuesday = vcat(17:19)\n",
    "Wednesday = vcat(26:28, 32:34)\n",
    "Thursday = vcat(17:19, 29:34)\n",
    "Friday = vcat(18:19, 21:22, 28:29)\n",
    "Saturday = []\n",
    "Sunday = []\n",
    "Classes = [Monday, Tuesday, Wednesday, Thursday, Friday, Saturday, Sunday]"
   ]
  },
  {
   "cell_type": "code",
   "execution_count": 91,
   "id": "2ed1f897-451b-4eda-b8e1-a34828b4e116",
   "metadata": {
    "jupyter": {
     "outputs_hidden": true
    },
    "tags": []
   },
   "outputs": [
    {
     "name": "stdout",
     "output_type": "stream",
     "text": [
      "Set parameter TimeLimit to value 10\r\n",
      "Set parameter MIPGap to value 0.005\r\n",
      "Set parameter MIPGap to value 0.005\r\n",
      "Set parameter TimeLimit to value 10\r\n",
      "Gurobi Optimizer version 9.5.2 build v9.5.2rc0 (win64)\r\n",
      "Thread count: 8 physical cores, 16 logical processors, using up to 16 threads\r\n",
      "Optimize a model with 246570 rows, 160041 columns and 523923 nonzeros\r\n",
      "Model fingerprint: 0x309cc48a\r\n",
      "Model has 15792 SOS constraints\r\n",
      "Variable types: 0 continuous, 160041 integer (160041 binary)\r\n",
      "Coefficient statistics:\r\n",
      "  Matrix range     [1e+00, 1e+00]\r\n",
      "  Objective range  [1e+00, 5e+00]\r\n",
      "  Bounds range     [0e+00, 0e+00]\r\n",
      "  RHS range        [1e+00, 1e+01]\r\n",
      "Presolve removed 136853 rows and 116924 columns\r\n",
      "Presolve time: 2.87s\r\n",
      "Presolved: 109717 rows, 43117 columns, 250217 nonzeros\r\n",
      "Variable types: 0 continuous, 43117 integer (43117 binary)\r\n",
      "Found heuristic solution: objective 17052.000000\r\n",
      "Found heuristic solution: objective 18012.000000\r\n",
      "\r\n",
      "Deterministic concurrent LP optimizer: primal and dual simplex (primal and dual model)\r\n",
      "Showing first log only...\r\n",
      "\r\n",
      "Root relaxation presolved: 109717 rows, 43117 columns, 250217 nonzeros\r\n",
      "\r\n",
      "\r\n",
      "Use crossover to convert LP symmetric solution to basic solution...\r\n",
      "Concurrent spin time: 0.13s\r\n",
      "\r\n",
      "Solved with primal simplex (dual model)\r\n",
      "\r\n",
      "Root relaxation: objective 1.855250e+04, 29550 iterations, 0.92 seconds (0.58 work units)\r\n",
      "\r\n",
      "    Nodes    |    Current Node    |     Objective Bounds      |     Work\r\n",
      " Expl Unexpl |  Obj  Depth IntInf | Incumbent    BestBd   Gap | It/Node Time\r\n",
      "\r\n",
      "     0     0 18552.5000    0 7272 18012.0000 18552.5000  3.00%     -    4s\r\n",
      "     0     0 18534.7514    0 4845 18012.0000 18534.7514  2.90%     -    5s\r\n",
      "\r\n",
      "Cutting planes:\r\n",
      "  Gomory: 9\r\n",
      "  MIR: 1\r\n",
      "  Zero half: 106\r\n",
      "\r\n",
      "Explored 1 nodes (32104 simplex iterations) in 10.02 seconds (8.97 work units)\r\n",
      "Thread count was 16 (of 16 available processors)\r\n",
      "\r\n",
      "Solution count 2: 18012 17052 \r\n",
      "\r\n",
      "Time limit reached\r\n",
      "Best objective 1.801200000000e+04, best bound 1.853400000000e+04, gap 2.8981%\r\n",
      "\r\n",
      "User-callback calls 2813, time in user-callback 0.00 sec\r\n",
      " 13.964573 seconds (20.23 M allocations: 1.809 GiB, 3.31% gc time, 15.26% compilation time)\n"
     ]
    }
   ],
   "source": [
    "@time x, al, ed, ml, opt, m = freetime_model([1,2,3,4,5,6,7,8], Students, Classes, ALab, Edge, ML, Opt);"
   ]
  },
  {
   "cell_type": "markdown",
   "id": "8e22e4f9",
   "metadata": {},
   "source": [
    "## Checking results for a given student, activity, day or hour"
   ]
  },
  {
   "cell_type": "code",
   "execution_count": 95,
   "id": "e3e1ba6c",
   "metadata": {},
   "outputs": [
    {
     "name": "stdout",
     "output_type": "stream",
     "text": [
      "[0.0, 0.0, 0.0, 0.0, 0.0, 0.0, 0.0, 0.0, 0.0, 0.0, 0.0, 0.0, 0.0, 0.0, 0.0, 0.0, 0.0, 0.0, 0.0, 1.0, 0.0, 0.0, 1.0, 1.0, 1.0, 1.0, 1.0, 0.0, 0.0, 1.0, 1.0, 1.0, 1.0, 1.0, 1.0, 1.0, 1.0, 1.0, 1.0, 1.0, 1.0, 1.0, 1.0, 1.0, 1.0, 1.0, 1.0, 1.0]"
     ]
    }
   ],
   "source": [
    "show(value.(x)[1,2,5,:])"
   ]
  },
  {
   "cell_type": "code",
   "execution_count": 50,
   "id": "a1a3a1f5",
   "metadata": {},
   "outputs": [
    {
     "data": {
      "text/plain": [
       "7-element Vector{Float64}:\n",
       " 0.0\n",
       " 0.0\n",
       " 0.0\n",
       " 0.0\n",
       " 1.0\n",
       " 0.0\n",
       " 0.0"
      ]
     },
     "execution_count": 50,
     "metadata": {},
     "output_type": "execute_result"
    }
   ],
   "source": [
    "value.(x)[1,8,:,20]"
   ]
  }
 ],
 "metadata": {
  "kernelspec": {
   "display_name": "Julia 1.8.0",
   "language": "julia",
   "name": "julia-1.8"
  },
  "language_info": {
   "file_extension": ".jl",
   "mimetype": "application/julia",
   "name": "julia",
   "version": "1.8.0"
  }
 },
 "nbformat": 4,
 "nbformat_minor": 5
}
