{
 "cells": [
  {
   "cell_type": "code",
   "execution_count": 1,
   "id": "bc6d2071-6ea9-45e6-8661-aa00eb7b75f8",
   "metadata": {},
   "outputs": [],
   "source": [
    "using JuMP, Gurobi, CSV, Tables"
   ]
  },
  {
   "cell_type": "code",
   "execution_count": 2,
   "id": "d7a57d28-7e64-4f6e-9712-8b606b19b9fd",
   "metadata": {},
   "outputs": [],
   "source": [
    "Students_raw = CSV.File(\"../Data/Name_dict.csv\", header=false) |> Tables.matrix;\n",
    "ALab_raw = CSV.File(\"../Data/Teams_ALab.csv\", header=false) |> Tables.matrix;\n",
    "Edge_raw = CSV.File(\"../Data/Teams_Edge.csv\", header=false) |> Tables.matrix;\n",
    "ML_raw = CSV.File(\"../Data/Teams_ML.csv\", header=false) |> Tables.matrix;\n",
    "Opt_raw = CSV.File(\"../Data/Teams_Opt.csv\", header=false) |> Tables.matrix;"
   ]
  },
  {
   "cell_type": "code",
   "execution_count": 3,
   "id": "9b1fa0c7-3ef3-4960-a9ff-bfd37e0a8384",
   "metadata": {},
   "outputs": [],
   "source": [
    "Students_temp = Students_raw[2:end-2,:];"
   ]
  },
  {
   "cell_type": "code",
   "execution_count": 4,
   "id": "fe8d0c74-9137-46f5-8ada-27027c10903d",
   "metadata": {},
   "outputs": [
    {
     "data": {
      "text/plain": [
       "5×2 Matrix{Any}:\n",
       " 1.0  \"Michal Laskowski\"\n",
       " 2.0  \"Tom Wright\"\n",
       " 3.0  \"Jaya Ren \"\n",
       " 4.0  \"Arushi Jain \"\n",
       " 5.0  \"Jan Reig Torra\""
      ]
     },
     "execution_count": 4,
     "metadata": {},
     "output_type": "execute_result"
    }
   ],
   "source": [
    "Students = hcat(parse.(Float64, Students_temp[:,1]),Students_temp[:,2])\n",
    "Students[1:5,:]"
   ]
  },
  {
   "cell_type": "code",
   "execution_count": 5,
   "id": "4449cf48-c42a-40e7-aac8-d441a5798838",
   "metadata": {},
   "outputs": [],
   "source": [
    "ALab = parse.(Int64, ALab_raw[2:end,:]);\n",
    "Edge = parse.(Int64, Edge_raw[2:end,:]);\n",
    "ML = parse.(Int64, ML_raw[2:end,:]);\n",
    "Opt = parse.(Int64, Opt_raw[2:end,:]);"
   ]
  },
  {
   "cell_type": "code",
   "execution_count": 6,
   "id": "842c9f9e-ff62-467d-a6a1-d0a62927dd2b",
   "metadata": {},
   "outputs": [
    {
     "data": {
      "text/plain": [
       "get_groups (generic function with 1 method)"
      ]
     },
     "execution_count": 6,
     "metadata": {},
     "output_type": "execute_result"
    }
   ],
   "source": [
    "function get_groups(mat)\n",
    "    n = size(mat, 1)\n",
    "    new_mat = []\n",
    "    for i in 1:n\n",
    "        inds = findall(x->x!=99, mat[i,:])\n",
    "        push!(new_mat, Int.(mat[i,inds]))\n",
    "    end\n",
    "    return new_mat\n",
    "end"
   ]
  },
  {
   "cell_type": "code",
   "execution_count": 7,
   "id": "727c1597-2d51-444b-8a86-fd5d39cb249a",
   "metadata": {},
   "outputs": [],
   "source": [
    "ALab = get_groups(ALab);\n",
    "Edge = get_groups(Edge);\n",
    "ML = get_groups(ML);\n",
    "Opt = get_groups(Opt);"
   ]
  },
  {
   "cell_type": "code",
   "execution_count": 8,
   "id": "f97071ce-d599-42f8-a35b-768789b9f9f4",
   "metadata": {},
   "outputs": [
    {
     "name": "stdout",
     "output_type": "stream",
     "text": [
      "Set parameter Username\n",
      "Academic license - for non-commercial use only - expires 2023-08-19\n"
     ]
    }
   ],
   "source": [
    "env = Gurobi.Env();"
   ]
  },
  {
   "cell_type": "markdown",
   "id": "23e6a758-d994-448c-8ca0-59d458ab26b1",
   "metadata": {},
   "source": [
    "**Activities**: {  \n",
    "    1 := sleep,  \n",
    "    2 := free time,  \n",
    "    3 := class,  \n",
    "    4 := ALab meeting,  \n",
    "    5 := Edge meeting,  \n",
    "    6 := ML meeting,  \n",
    "    7 := Opt meeting  \n",
    "}"
   ]
  },
  {
   "cell_type": "code",
   "execution_count": 18,
   "id": "48bedcf4-c540-4033-8b9e-d8590314ceaa",
   "metadata": {},
   "outputs": [
    {
     "data": {
      "text/plain": [
       "freetime_model (generic function with 1 method)"
      ]
     },
     "execution_count": 18,
     "metadata": {},
     "output_type": "execute_result"
    }
   ],
   "source": [
    "```\n",
    "A := activities\n",
    "S := students\n",
    "C := class time periods \n",
    "```\n",
    "function freetime_model(A, S, C, ALab, Edge, ML, Opt)\n",
    "    \n",
    "    model = Model(() -> Gurobi.Optimizer(env)) ;\n",
    "    set_time_limit_sec(model, 10)\n",
    "    set_optimizer_attribute(model, \"OutputFlag\", 1)\n",
    "    set_optimizer_attribute(model, \"MIPGap\", 5e-3)\n",
    "    \n",
    "    n_A = length(A)\n",
    "    n_S = size(S, 1)\n",
    "    n_al = length(ALab)\n",
    "    n_ed = length(Edge)\n",
    "    n_ml = length(ML)\n",
    "    n_opt = length(Opt)\n",
    "    \n",
    "    # variable for student activities over time\n",
    "    @variable(model, x[1:n_S, 1:n_A, 1:7, 1:48], Bin)\n",
    "    \n",
    "    # variable for indicating if the group is all doing the correct meeting\n",
    "    @variable(model, al[1:n_al, 1:7, 1:45], Bin)\n",
    "    @variable(model, ed[1:n_ed, 1:7, 1:45], Bin)\n",
    "    @variable(model, ml[1:n_ml, 1:7, 1:45], Bin)\n",
    "    @variable(model, opt[1:n_opt, 1:7, 1:45], Bin)\n",
    "    \n",
    "    # Must do one activity at a time\n",
    "#     @constraint(model, [s=1:n_S], sum(x[s,:,:,:], dims=1) .== 1)\n",
    "    @constraint(model, [s=1:n_S, d=1:7, t=1:48], x[s,:,d,t] in SOS1())\n",
    "    \n",
    "    # at the moment, we are forcing sleep to be between 11pm and 7am (8hrs)\n",
    "    @constraint(model, [s=1:n_S, d=1:7], x[s,1,d,vcat(1:14,end-1:end)].==1)\n",
    "    \n",
    "    # at the moment, we are forcing students to attend classes\n",
    "    for day in 1:7\n",
    "        @constraint(model, [s=1:n_S], x[s,3,day,C[day]].==1)\n",
    "    end\n",
    "    \n",
    "    # ALab\n",
    "    @constraint(model, sum(al, dims=(2,3)) .>= 1)\n",
    "    for (i, group) in enumerate(ALab)\n",
    "        @constraint(model, [d=1:7, t=1:45, s in group, t1=t:t+3], al[i,d,t] <= x[s, 4, d, t1])\n",
    "    end\n",
    "    \n",
    "    # Edge\n",
    "    @constraint(model, sum(ed, dims=(2,3)) .>= 1)\n",
    "    for (i, group) in enumerate(Edge)\n",
    "        @constraint(model, [d=1:7, t=1:45, s in group, t1=t:t+3], ed[i,d,t] <= x[s, 5, d, t1])\n",
    "    end\n",
    "    \n",
    "    # ML\n",
    "    @constraint(model, sum(ml, dims=(2,3)) .>= 1)\n",
    "    for (i, group) in enumerate(ML)\n",
    "        @constraint(model, [d=1:7, t=1:45, s in group, t1=t:t+3], ml[i,d,t] <= x[s, 6, d, t1])\n",
    "    end\n",
    "    \n",
    "    # Opt\n",
    "    @constraint(model, sum(opt, dims=(2,3)) .>= 1)\n",
    "    for (i, group) in enumerate(Opt)\n",
    "        @constraint(model, [d=1:7, t=1:45, s in group, t1=t:t+3], opt[i,d,t] <= x[s, 7, d, t1])\n",
    "    end\n",
    "    \n",
    "    # objective is maximixing free time for now\n",
    "    @objective(model, Max, sum(x[:,2,:,:]))\n",
    "    \n",
    "    optimize!(model)\n",
    " \n",
    "    return value.(x), value.(al), value.(ed), value.(ml), value.(opt), model\n",
    "end"
   ]
  },
  {
   "cell_type": "code",
   "execution_count": 19,
   "id": "e3dbfe5e-1401-4e06-83b4-1a9bbebfa14a",
   "metadata": {},
   "outputs": [
    {
     "data": {
      "text/plain": [
       "7-element Vector{Vector{Any}}:\n",
       " [26, 27, 28, 32, 33, 34]\n",
       " [17, 18, 19, 20]\n",
       " [26, 27, 28, 32, 33, 34]\n",
       " [17, 18, 19, 20, 29, 30, 31, 32, 33, 34]\n",
       " []\n",
       " []\n",
       " []"
      ]
     },
     "execution_count": 19,
     "metadata": {},
     "output_type": "execute_result"
    }
   ],
   "source": [
    "Monday = vcat(26:28, 32:34)\n",
    "Tuesday = vcat(17:20)\n",
    "Wednesday = vcat(26:28, 32:34)\n",
    "Thursday = vcat(17:20, 29:34)\n",
    "Friday = []\n",
    "Saturday = []\n",
    "Sunday = []\n",
    "Classes = [Monday, Tuesday, Wednesday, Thursday, Friday, Saturday, Sunday]"
   ]
  },
  {
   "cell_type": "code",
   "execution_count": 20,
   "id": "2ed1f897-451b-4eda-b8e1-a34828b4e116",
   "metadata": {
    "collapsed": true,
    "jupyter": {
     "outputs_hidden": true
    },
    "tags": []
   },
   "outputs": [
    {
     "name": "stdout",
     "output_type": "stream",
     "text": [
      "Set parameter TimeLimit to value 10\n",
      "Set parameter MIPGap to value 0.005\n",
      "Set parameter MIPGap to value 0.005\n",
      "Set parameter TimeLimit to value 10\n",
      "Gurobi Optimizer version 9.5.2 build v9.5.2rc0 (mac64[x86])\n",
      "Thread count: 4 physical cores, 8 logical processors, using up to 8 threads\n",
      "Optimize a model with 209738 rows, 124950 columns and 444630 nonzeros\n",
      "Model fingerprint: 0x9409518b\n",
      "Model has 13440 SOS constraints\n",
      "Variable types: 0 continuous, 124950 integer (124950 binary)\n",
      "Coefficient statistics:\n",
      "  Matrix range     [1e+00, 1e+00]\n",
      "  Objective range  [1e+00, 1e+00]\n",
      "  Bounds range     [0e+00, 0e+00]\n",
      "  RHS range        [1e+00, 1e+00]\n",
      "Presolve removed 102896 rows and 82546 columns\n",
      "Presolve time: 2.58s\n",
      "Presolved: 106842 rows, 42404 columns, 244012 nonzeros\n",
      "Variable types: 0 continuous, 42404 integer (42404 binary)\n",
      "Found heuristic solution: objective 7280.0000000\n",
      "\n",
      "Deterministic concurrent LP optimizer: primal and dual simplex (primal and dual model)\n",
      "Showing first log only...\n",
      "\n",
      "Root relaxation presolved: 106842 rows, 42404 columns, 244012 nonzeros\n",
      "\n",
      "\n",
      "Use crossover to convert LP symmetric solution to basic solution...\n",
      "Concurrent spin time: 0.10s\n",
      "\n",
      "Solved with primal simplex (dual model)\n",
      "\n",
      "Root relaxation: objective 7.743448e+03, 22842 iterations, 0.80 seconds (0.49 work units)\n",
      "\n",
      "    Nodes    |    Current Node    |     Objective Bounds      |     Work\n",
      " Expl Unexpl |  Obj  Depth IntInf | Incumbent    BestBd   Gap | It/Node Time\n",
      "\n",
      "     0     0 7743.44828    0 7646 7280.00000 7743.44828  6.37%     -    4s\n",
      "     0     0 7739.20540    0 7490 7280.00000 7739.20540  6.31%     -    5s\n",
      "     0     0 7729.74663    0 7080 7280.00000 7729.74663  6.18%     -    6s\n",
      "     0     0 7727.93703    0 7128 7280.00000 7727.93703  6.15%     -    7s\n",
      "     0     0 7725.28600    0 7053 7280.00000 7725.28600  6.12%     -    8s\n",
      "     0     0 7725.28600    0 7026 7280.00000 7725.28600  6.12%     -    8s\n",
      "\n",
      "Cutting planes:\n",
      "  Gomory: 27\n",
      "  MIR: 3\n",
      "  Zero half: 248\n",
      "  RLT: 44\n",
      "\n",
      "Explored 1 nodes (25520 simplex iterations) in 10.01 seconds (8.92 work units)\n",
      "Thread count was 8 (of 8 available processors)\n",
      "\n",
      "Solution count 1: 7280 \n",
      "\n",
      "Time limit reached\n",
      "Best objective 7.280000000000e+03, best bound 7.725000000000e+03, gap 6.1126%\n",
      "\n",
      "User-callback calls 2126, time in user-callback 0.01 sec\n",
      " 18.944994 seconds (27.39 M allocations: 2.253 GiB, 8.28% gc time, 35.88% compilation time)\n"
     ]
    },
    {
     "data": {
      "text/plain": [
       "([1.0 0.0 … 0.0 0.0; 1.0 0.0 … 0.0 0.0; … ; 1.0 0.0 … 0.0 0.0; 1.0 0.0 … 0.0 0.0;;; 1.0 0.0 … 0.0 0.0; 1.0 0.0 … 0.0 0.0; … ; 1.0 0.0 … 0.0 0.0; 1.0 0.0 … 0.0 0.0;;; 1.0 0.0 … 0.0 0.0; 1.0 0.0 … 0.0 0.0; … ; 1.0 0.0 … 0.0 0.0; 1.0 0.0 … 0.0 0.0;;; 1.0 0.0 … 0.0 0.0; 1.0 0.0 … 0.0 0.0; … ; 1.0 0.0 … 0.0 0.0; 1.0 0.0 … 0.0 0.0;;; 1.0 0.0 … 0.0 0.0; 1.0 0.0 … 0.0 0.0; … ; 1.0 0.0 … 0.0 0.0; 1.0 0.0 … 0.0 0.0;;; 1.0 0.0 … 0.0 0.0; 1.0 0.0 … 0.0 0.0; … ; 1.0 0.0 … 0.0 0.0; 1.0 0.0 … 0.0 0.0;;; 1.0 0.0 … 0.0 0.0; 1.0 0.0 … 0.0 0.0; … ; 1.0 0.0 … 0.0 0.0; 1.0 0.0 … 0.0 0.0;;;; 1.0 0.0 … 0.0 0.0; 1.0 0.0 … 0.0 0.0; … ; 1.0 0.0 … 0.0 0.0; 1.0 0.0 … 0.0 0.0;;; 1.0 0.0 … 0.0 0.0; 1.0 0.0 … 0.0 0.0; … ; 1.0 0.0 … 0.0 0.0; 1.0 0.0 … 0.0 0.0;;; 1.0 0.0 … 0.0 0.0; 1.0 0.0 … 0.0 0.0; … ; 1.0 0.0 … 0.0 0.0; 1.0 0.0 … 0.0 0.0;;; 1.0 0.0 … 0.0 0.0; 1.0 0.0 … 0.0 0.0; … ; 1.0 0.0 … 0.0 0.0; 1.0 0.0 … 0.0 0.0;;; 1.0 0.0 … 0.0 0.0; 1.0 0.0 … 0.0 0.0; … ; 1.0 0.0 … 0.0 0.0; 1.0 0.0 … 0.0 0.0;;; 1.0 0.0 … 0.0 0.0; 1.0 0.0 … 0.0 0.0; … ; 1.0 0.0 … 0.0 0.0; 1.0 0.0 … 0.0 0.0;;; 1.0 0.0 … 0.0 0.0; 1.0 0.0 … 0.0 0.0; … ; 1.0 0.0 … 0.0 0.0; 1.0 0.0 … 0.0 0.0;;;; 1.0 0.0 … 0.0 0.0; 1.0 0.0 … 0.0 0.0; … ; 1.0 0.0 … 0.0 0.0; 1.0 0.0 … 0.0 0.0;;; 1.0 0.0 … 0.0 0.0; 1.0 0.0 … 0.0 0.0; … ; 1.0 0.0 … 0.0 0.0; 1.0 0.0 … 0.0 0.0;;; 1.0 0.0 … 0.0 0.0; 1.0 0.0 … 0.0 0.0; … ; 1.0 0.0 … 0.0 0.0; 1.0 0.0 … 0.0 0.0;;; 1.0 0.0 … 0.0 0.0; 1.0 0.0 … 0.0 0.0; … ; 1.0 0.0 … 0.0 0.0; 1.0 0.0 … 0.0 0.0;;; 1.0 0.0 … 0.0 0.0; 1.0 0.0 … 0.0 0.0; … ; 1.0 0.0 … 0.0 0.0; 1.0 0.0 … 0.0 0.0;;; 1.0 0.0 … 0.0 0.0; 1.0 0.0 … 0.0 0.0; … ; 1.0 0.0 … 0.0 0.0; 1.0 0.0 … 0.0 0.0;;; 1.0 0.0 … 0.0 0.0; 1.0 0.0 … 0.0 0.0; … ; 1.0 0.0 … 0.0 0.0; 1.0 0.0 … 0.0 0.0;;;; … ;;;; 0.0 1.0 … 0.0 0.0; 0.0 1.0 … 0.0 0.0; … ; 0.0 1.0 … 0.0 0.0; 0.0 1.0 … 0.0 0.0;;; 0.0 1.0 … 0.0 0.0; 0.0 1.0 … 0.0 0.0; … ; 0.0 1.0 … 0.0 0.0; 0.0 1.0 … 0.0 0.0;;; 0.0 1.0 … 0.0 0.0; 0.0 1.0 … 0.0 0.0; … ; 0.0 1.0 … 0.0 0.0; 0.0 1.0 … 0.0 0.0;;; 0.0 1.0 … 0.0 0.0; 0.0 1.0 … 0.0 0.0; … ; 0.0 1.0 … 0.0 0.0; 0.0 1.0 … 0.0 0.0;;; 0.0 1.0 … 0.0 0.0; 0.0 1.0 … 0.0 0.0; … ; 0.0 1.0 … 0.0 0.0; 0.0 1.0 … 0.0 0.0;;; 0.0 1.0 … 0.0 0.0; 0.0 1.0 … 0.0 0.0; … ; 0.0 1.0 … 0.0 0.0; 0.0 1.0 … 0.0 0.0;;; 0.0 1.0 … 0.0 0.0; 0.0 1.0 … 0.0 0.0; … ; 0.0 1.0 … 0.0 0.0; 0.0 1.0 … 0.0 0.0;;;; 1.0 0.0 … 0.0 0.0; 1.0 0.0 … 0.0 0.0; … ; 1.0 0.0 … 0.0 0.0; 1.0 0.0 … 0.0 0.0;;; 1.0 0.0 … 0.0 0.0; 1.0 0.0 … 0.0 0.0; … ; 1.0 0.0 … 0.0 0.0; 1.0 0.0 … 0.0 0.0;;; 1.0 0.0 … 0.0 0.0; 1.0 0.0 … 0.0 0.0; … ; 1.0 0.0 … 0.0 0.0; 1.0 0.0 … 0.0 0.0;;; 1.0 0.0 … 0.0 0.0; 1.0 0.0 … 0.0 0.0; … ; 1.0 0.0 … 0.0 0.0; 1.0 0.0 … 0.0 0.0;;; 1.0 0.0 … 0.0 0.0; 1.0 0.0 … 0.0 0.0; … ; 1.0 0.0 … 0.0 0.0; 1.0 0.0 … 0.0 0.0;;; 1.0 0.0 … 0.0 0.0; 1.0 0.0 … 0.0 0.0; … ; 1.0 0.0 … 0.0 0.0; 1.0 0.0 … 0.0 0.0;;; 1.0 0.0 … 0.0 0.0; 1.0 0.0 … 0.0 0.0; … ; 1.0 0.0 … 0.0 0.0; 1.0 0.0 … 0.0 0.0;;;; 1.0 0.0 … 0.0 0.0; 1.0 0.0 … 0.0 0.0; … ; 1.0 0.0 … 0.0 0.0; 1.0 0.0 … 0.0 0.0;;; 1.0 0.0 … 0.0 0.0; 1.0 0.0 … 0.0 0.0; … ; 1.0 0.0 … 0.0 0.0; 1.0 0.0 … 0.0 0.0;;; 1.0 0.0 … 0.0 0.0; 1.0 0.0 … 0.0 0.0; … ; 1.0 0.0 … 0.0 0.0; 1.0 0.0 … 0.0 0.0;;; 1.0 0.0 … 0.0 0.0; 1.0 0.0 … 0.0 0.0; … ; 1.0 0.0 … 0.0 0.0; 1.0 0.0 … 0.0 0.0;;; 1.0 0.0 … 0.0 0.0; 1.0 0.0 … 0.0 0.0; … ; 1.0 0.0 … 0.0 0.0; 1.0 0.0 … 0.0 0.0;;; 1.0 0.0 … 0.0 0.0; 1.0 0.0 … 0.0 0.0; … ; 1.0 0.0 … 0.0 0.0; 1.0 0.0 … 0.0 0.0;;; 1.0 0.0 … 0.0 0.0; 1.0 0.0 … 0.0 0.0; … ; 1.0 0.0 … 0.0 0.0; 1.0 0.0 … 0.0 0.0], [0.0 0.0 … 0.0 0.0; 0.0 0.0 … 0.0 0.0; … ; 0.0 0.0 … 0.0 0.0; 0.0 0.0 … 0.0 0.0;;; 0.0 0.0 … 0.0 0.0; 0.0 0.0 … 0.0 0.0; … ; 0.0 0.0 … 0.0 0.0; 0.0 0.0 … 0.0 0.0;;; 0.0 0.0 … 0.0 0.0; 0.0 0.0 … 0.0 0.0; … ; 0.0 0.0 … 0.0 0.0; 0.0 0.0 … 0.0 0.0;;; … ;;; 0.0 0.0 … 0.0 0.0; 0.0 0.0 … 0.0 0.0; … ; 0.0 0.0 … 0.0 0.0; 0.0 0.0 … 0.0 0.0;;; 0.0 0.0 … 0.0 0.0; 0.0 0.0 … 0.0 0.0; … ; 0.0 0.0 … 0.0 0.0; 0.0 0.0 … 0.0 0.0;;; 0.0 0.0 … 0.0 0.0; 0.0 0.0 … 0.0 0.0; … ; 0.0 0.0 … 0.0 0.0; 0.0 0.0 … 0.0 0.0], [0.0 0.0 … 0.0 0.0; 0.0 0.0 … 0.0 0.0; … ; 0.0 0.0 … 0.0 0.0; 0.0 0.0 … 0.0 0.0;;; 0.0 0.0 … 0.0 0.0; 0.0 0.0 … 0.0 0.0; … ; 0.0 0.0 … 0.0 0.0; 0.0 0.0 … 0.0 0.0;;; 0.0 0.0 … 0.0 0.0; 0.0 0.0 … 0.0 0.0; … ; 0.0 0.0 … 0.0 0.0; 0.0 0.0 … 0.0 0.0;;; … ;;; 0.0 0.0 … 0.0 0.0; 0.0 0.0 … 0.0 0.0; … ; 0.0 0.0 … 0.0 0.0; 0.0 0.0 … 0.0 0.0;;; 0.0 0.0 … 0.0 0.0; 0.0 0.0 … 0.0 0.0; … ; 0.0 0.0 … 0.0 0.0; 0.0 0.0 … 0.0 0.0;;; 0.0 0.0 … 0.0 0.0; 0.0 0.0 … 0.0 0.0; … ; 0.0 0.0 … 0.0 0.0; 0.0 0.0 … 0.0 0.0], [0.0 0.0 … 0.0 0.0; 0.0 0.0 … 0.0 0.0; … ; 0.0 0.0 … 0.0 0.0; 0.0 0.0 … 0.0 0.0;;; 0.0 0.0 … 0.0 0.0; 0.0 0.0 … 0.0 0.0; … ; 0.0 0.0 … 0.0 0.0; 0.0 0.0 … 0.0 0.0;;; 0.0 0.0 … 0.0 0.0; 0.0 0.0 … 0.0 0.0; … ; 0.0 0.0 … 0.0 0.0; 0.0 0.0 … 0.0 0.0;;; … ;;; 0.0 0.0 … 0.0 0.0; 0.0 0.0 … 0.0 0.0; … ; 0.0 0.0 … 0.0 0.0; 0.0 0.0 … 0.0 0.0;;; 0.0 0.0 … 0.0 0.0; 0.0 0.0 … 0.0 0.0; … ; 0.0 0.0 … 0.0 0.0; 0.0 0.0 … 0.0 0.0;;; 0.0 0.0 … 0.0 0.0; 0.0 0.0 … 0.0 0.0; … ; 0.0 0.0 … 0.0 0.0; 0.0 0.0 … 0.0 0.0], [0.0 0.0 … 0.0 0.0; 0.0 0.0 … 0.0 0.0; … ; 0.0 0.0 … 0.0 0.0; 0.0 0.0 … 0.0 0.0;;; 0.0 0.0 … 0.0 0.0; 0.0 0.0 … 0.0 0.0; … ; 0.0 0.0 … 0.0 0.0; 0.0 0.0 … 0.0 0.0;;; 0.0 0.0 … 0.0 0.0; 0.0 0.0 … 0.0 0.0; … ; 0.0 0.0 … 0.0 0.0; 0.0 0.0 … 0.0 0.0;;; … ;;; 0.0 0.0 … 0.0 0.0; 0.0 0.0 … 0.0 0.0; … ; 0.0 0.0 … 0.0 0.0; 0.0 0.0 … 0.0 0.0;;; 0.0 0.0 … 0.0 0.0; 0.0 0.0 … 0.0 0.0; … ; 0.0 0.0 … 0.0 0.0; 0.0 0.0 … 0.0 0.0;;; 0.0 0.0 … 0.0 0.0; 0.0 0.0 … 0.0 0.0; … ; 0.0 0.0 … 0.0 0.0; 0.0 0.0 … 0.0 0.0], A JuMP Model\n",
       "Maximization problem with:\n",
       "Variables: 124950\n",
       "Objective function type: AffExpr\n",
       "`AffExpr`-in-`MathOptInterface.EqualTo{Float64}`: 5520 constraints\n",
       "`AffExpr`-in-`MathOptInterface.GreaterThan{Float64}`: 98 constraints\n",
       "`AffExpr`-in-`MathOptInterface.LessThan{Float64}`: 204120 constraints\n",
       "`Vector{VariableRef}`-in-`MathOptInterface.SOS1{Float64}`: 13440 constraints\n",
       "`VariableRef`-in-`MathOptInterface.ZeroOne`: 124950 constraints\n",
       "Model mode: AUTOMATIC\n",
       "CachingOptimizer state: ATTACHED_OPTIMIZER\n",
       "Solver name: Gurobi\n",
       "Names registered in the model: al, ed, ml, opt, x)"
      ]
     },
     "execution_count": 20,
     "metadata": {},
     "output_type": "execute_result"
    }
   ],
   "source": [
    "@time x, al, ed, ml, opt, m = freetime_model([1,2,3,4,5,6,7], Students, Classes, ALab, Edge, ML, Opt)"
   ]
  },
  {
   "cell_type": "code",
   "execution_count": 24,
   "id": "2060ec5a-7c80-4210-882a-e00fa637258e",
   "metadata": {},
   "outputs": [
    {
     "data": {
      "text/plain": [
       "CartesianIndex(5, 32)"
      ]
     },
     "execution_count": 24,
     "metadata": {},
     "output_type": "execute_result"
    }
   ],
   "source": [
    "argmax(ed[10,:,:])"
   ]
  },
  {
   "cell_type": "code",
   "execution_count": 26,
   "id": "6f185310-7764-4ec8-b359-f568a2fa1b9b",
   "metadata": {},
   "outputs": [
    {
     "data": {
      "text/plain": [
       "2-element Vector{Int64}:\n",
       " 12\n",
       " 15"
      ]
     },
     "execution_count": 26,
     "metadata": {},
     "output_type": "execute_result"
    }
   ],
   "source": [
    "Edge[10]"
   ]
  },
  {
   "cell_type": "code",
   "execution_count": 23,
   "id": "d2a00b78-7748-4101-8c85-0f3006ed5635",
   "metadata": {},
   "outputs": [
    {
     "data": {
      "text/plain": [
       "4×4 Matrix{Float64}:\n",
       " 1.0  1.0  1.0  1.0\n",
       " 1.0  1.0  1.0  1.0\n",
       " 1.0  1.0  1.0  1.0\n",
       " 1.0  1.0  1.0  1.0"
      ]
     },
     "execution_count": 23,
     "metadata": {},
     "output_type": "execute_result"
    }
   ],
   "source": [
    "x[Edge[2],5,6,34:37]"
   ]
  },
  {
   "cell_type": "code",
   "execution_count": 47,
   "id": "fb568d3a-815e-43fa-8b02-93d6ee9e7c97",
   "metadata": {
    "collapsed": true,
    "jupyter": {
     "outputs_hidden": true
    },
    "tags": []
   },
   "outputs": [
    {
     "data": {
      "text/plain": [
       "1×1×7×48 Array{Float64, 4}:\n",
       "[:, :, 1, 1] =\n",
       " 40.0\n",
       "\n",
       "[:, :, 2, 1] =\n",
       " 40.0\n",
       "\n",
       "[:, :, 3, 1] =\n",
       " 40.0\n",
       "\n",
       "[:, :, 4, 1] =\n",
       " 40.0\n",
       "\n",
       "[:, :, 5, 1] =\n",
       " 40.0\n",
       "\n",
       "[:, :, 6, 1] =\n",
       " 40.0\n",
       "\n",
       "[:, :, 7, 1] =\n",
       " 40.0\n",
       "\n",
       "[:, :, 1, 2] =\n",
       " 40.0\n",
       "\n",
       "[:, :, 2, 2] =\n",
       " 40.0\n",
       "\n",
       "[:, :, 3, 2] =\n",
       " 40.0\n",
       "\n",
       "[:, :, 4, 2] =\n",
       " 40.0\n",
       "\n",
       "[:, :, 5, 2] =\n",
       " 40.0\n",
       "\n",
       "[:, :, 6, 2] =\n",
       " 40.0\n",
       "\n",
       "[:, :, 7, 2] =\n",
       " 40.0\n",
       "\n",
       "[:, :, 1, 3] =\n",
       " 40.0\n",
       "\n",
       "[:, :, 2, 3] =\n",
       " 40.0\n",
       "\n",
       "[:, :, 3, 3] =\n",
       " 40.0\n",
       "\n",
       "[:, :, 4, 3] =\n",
       " 40.0\n",
       "\n",
       "[:, :, 5, 3] =\n",
       " 40.0\n",
       "\n",
       "[:, :, 6, 3] =\n",
       " 40.0\n",
       "\n",
       "[:, :, 7, 3] =\n",
       " 40.0\n",
       "\n",
       ";;;; … \n",
       "\n",
       "[:, :, 1, 46] =\n",
       " 6.0\n",
       "\n",
       "[:, :, 2, 46] =\n",
       " 3.0\n",
       "\n",
       "[:, :, 3, 46] =\n",
       " 8.0\n",
       "\n",
       "[:, :, 4, 46] =\n",
       " 13.0\n",
       "\n",
       "[:, :, 5, 46] =\n",
       " 1.0\n",
       "\n",
       "[:, :, 6, 46] =\n",
       " 5.0\n",
       "\n",
       "[:, :, 7, 46] =\n",
       " 4.0\n",
       "\n",
       "[:, :, 1, 47] =\n",
       " 40.0\n",
       "\n",
       "[:, :, 2, 47] =\n",
       " 40.0\n",
       "\n",
       "[:, :, 3, 47] =\n",
       " 40.0\n",
       "\n",
       "[:, :, 4, 47] =\n",
       " 40.0\n",
       "\n",
       "[:, :, 5, 47] =\n",
       " 40.0\n",
       "\n",
       "[:, :, 6, 47] =\n",
       " 40.0\n",
       "\n",
       "[:, :, 7, 47] =\n",
       " 40.0\n",
       "\n",
       "[:, :, 1, 48] =\n",
       " 40.0\n",
       "\n",
       "[:, :, 2, 48] =\n",
       " 40.0\n",
       "\n",
       "[:, :, 3, 48] =\n",
       " 40.0\n",
       "\n",
       "[:, :, 4, 48] =\n",
       " 40.0\n",
       "\n",
       "[:, :, 5, 48] =\n",
       " 40.0\n",
       "\n",
       "[:, :, 6, 48] =\n",
       " 40.0\n",
       "\n",
       "[:, :, 7, 48] =\n",
       " 40.0"
      ]
     },
     "execution_count": 47,
     "metadata": {},
     "output_type": "execute_result"
    }
   ],
   "source": [
    "sum(x[:,:,:,:], dims=(1,2))"
   ]
  },
  {
   "cell_type": "code",
   "execution_count": 29,
   "id": "0c78d599-fe41-4732-b0b7-555f55f7121a",
   "metadata": {},
   "outputs": [
    {
     "data": {
      "text/plain": [
       "2-element Vector{Any}:\n",
       " [1, 32, 36, 6]\n",
       " [2, 28]"
      ]
     },
     "execution_count": 29,
     "metadata": {},
     "output_type": "execute_result"
    }
   ],
   "source": [
    "ALab[1:2]"
   ]
  },
  {
   "cell_type": "code",
   "execution_count": 32,
   "id": "9c2e752e-31c7-45f7-ae0a-10126261a047",
   "metadata": {},
   "outputs": [
    {
     "data": {
      "text/plain": [
       "CartesianIndex(6, 41)"
      ]
     },
     "execution_count": 32,
     "metadata": {},
     "output_type": "execute_result"
    }
   ],
   "source": [
    "argmax(al[2,:,:])"
   ]
  },
  {
   "cell_type": "code",
   "execution_count": 33,
   "id": "8bbeef83-1a13-47c7-90ed-618d1d31d542",
   "metadata": {},
   "outputs": [
    {
     "data": {
      "text/plain": [
       "2×5 Matrix{Float64}:\n",
       " 1.0  1.0  1.0  1.0  0.0\n",
       " 1.0  1.0  1.0  1.0  0.0"
      ]
     },
     "execution_count": 33,
     "metadata": {},
     "output_type": "execute_result"
    }
   ],
   "source": [
    "x[ALab[2],4,6,41:45]"
   ]
  },
  {
   "cell_type": "code",
   "execution_count": null,
   "id": "301d53fb-82df-4c8f-8edf-29f296913d74",
   "metadata": {},
   "outputs": [],
   "source": []
  }
 ],
 "metadata": {
  "kernelspec": {
   "display_name": "Julia 1.8.0",
   "language": "julia",
   "name": "julia-1.8"
  },
  "language_info": {
   "file_extension": ".jl",
   "mimetype": "application/julia",
   "name": "julia",
   "version": "1.8.0"
  }
 },
 "nbformat": 4,
 "nbformat_minor": 5
}
