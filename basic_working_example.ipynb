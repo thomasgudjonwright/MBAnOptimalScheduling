{
 "cells": [
  {
   "cell_type": "code",
   "execution_count": 1,
   "id": "bc89b019-61fc-41fa-b217-0a998475fbb8",
   "metadata": {},
   "outputs": [],
   "source": [
    "using JuMP, Gurobi"
   ]
  },
  {
   "cell_type": "code",
   "execution_count": 2,
   "id": "e9f6d641-8ac6-4e3d-90ef-3193a3e33805",
   "metadata": {},
   "outputs": [],
   "source": [
    "# 1 student, two activities (three including sleep) over one day. \n",
    "# Try to exclusively do activity 1 and 2, but required to do activity 3 for 10hrs"
   ]
  },
  {
   "cell_type": "code",
   "execution_count": 3,
   "id": "56e57e67-ad49-4834-8656-7c0d4f6edb1b",
   "metadata": {},
   "outputs": [
    {
     "name": "stdout",
     "output_type": "stream",
     "text": [
      "Set parameter Username\n",
      "Academic license - for non-commercial use only - expires 2023-08-19\n"
     ]
    }
   ],
   "source": [
    "env = Gurobi.Env();"
   ]
  },
  {
   "cell_type": "code",
   "execution_count": 4,
   "id": "02056bb4-6810-4428-854f-7286ac2c5095",
   "metadata": {},
   "outputs": [
    {
     "data": {
      "text/plain": [
       "one_student_one_day (generic function with 1 method)"
      ]
     },
     "execution_count": 4,
     "metadata": {},
     "output_type": "execute_result"
    }
   ],
   "source": [
    "function one_student_one_day(μ; solver_outputs=0)\n",
    "    \n",
    "    model = Model(() -> Gurobi.Optimizer(env)) ;\n",
    "    set_optimizer_attribute(model, \"OutputFlag\", solver_outputs)\n",
    "    A = length(μ)\n",
    "    \n",
    "    # no need to index over students  (== 1)\n",
    "    @variable(model, x[1:A, 1:48], Bin)\n",
    "    \n",
    "    # All half-hours must be occupied with an activity\n",
    "    @constraint(model, sum(sum(x))==48)\n",
    "    \n",
    "    # Can only do one activity at a time\n",
    "    @constraint(model, sum(x, dims=1).==1)\n",
    "    \n",
    "    # must do activity 3 for at least 10 hours / day\n",
    "    @constraint(model, sum(x[3,:])>=10)\n",
    "    \n",
    "    # must sleep (activity 1) for at least 8 hours (not enforcing which hours atm)\n",
    "    @constraint(model, sum(x[1,:])>=8)\n",
    "    \n",
    "    # objective is how we spend time weighted by value we assign to activity\n",
    "    @objective(model, Max, sum(μ'*x))\n",
    "    \n",
    "    optimize!(model)\n",
    " \n",
    "    return JuMP.value.(x)\n",
    "end"
   ]
  },
  {
   "cell_type": "code",
   "execution_count": 5,
   "id": "ab2685db-7f00-4e11-bf3a-5d66da8a9dc1",
   "metadata": {},
   "outputs": [
    {
     "data": {
      "text/plain": [
       "3×48 Matrix{Float64}:\n",
       " 0.0  0.0  0.0  0.0  0.0  0.0  0.0  0.0  …  0.0  0.0  0.0  0.0  0.0  0.0  1.0\n",
       " 1.0  1.0  1.0  1.0  1.0  1.0  1.0  1.0     0.0  0.0  1.0  0.0  0.0  0.0  0.0\n",
       " 0.0  0.0  0.0  0.0  0.0  0.0  0.0  0.0     1.0  1.0  0.0  1.0  1.0  1.0  0.0"
      ]
     },
     "execution_count": 5,
     "metadata": {},
     "output_type": "execute_result"
    }
   ],
   "source": [
    "μ = [1,2,-1]\n",
    "day = one_student_one_day(μ)"
   ]
  },
  {
   "cell_type": "code",
   "execution_count": 9,
   "id": "2469080e-7169-4795-aa12-9a0cdb1f498a",
   "metadata": {},
   "outputs": [
    {
     "data": {
      "text/plain": [
       "one_student (generic function with 1 method)"
      ]
     },
     "execution_count": 9,
     "metadata": {},
     "output_type": "execute_result"
    }
   ],
   "source": [
    "function one_student(μ; solver_outputs=0)\n",
    "    \n",
    "    model = Model(() -> Gurobi.Optimizer(env)) ;\n",
    "    set_optimizer_attribute(model, \"OutputFlag\", solver_outputs)\n",
    "    A = length(μ)\n",
    "    \n",
    "    # no need to index over students  (== 1)\n",
    "    @variable(model, x[1:A, 1:48, 1:7], Bin)\n",
    "    \n",
    "    # All half-hours must be occupied with an activity\n",
    "    @constraint(model, [d=1:7], sum(sum(x[:,:,d]))==48)\n",
    "    \n",
    "    # Can only do one activity at a time\n",
    "    @constraint(model, [d=1:7], sum(x[:,:,d], dims=1).==1)\n",
    "    \n",
    "    # must do activity 3 for at least 10 hours / day\n",
    "    @constraint(model, [d=1:7], sum(x[3,:,d])>=10)\n",
    "    \n",
    "    # must sleep (activity 1) for at least 8 hours (not enforcing which hours atm)\n",
    "    @constraint(model, [d=1:7], sum(x[1,:,d])>=8)\n",
    "    \n",
    "    # objective is how we spend time weighted by value we assign to activity\n",
    "    @objective(model, Max, sum(μ'*reshape(sum(x, dims=3), (A, 48))))\n",
    "    \n",
    "    optimize!(model)\n",
    " \n",
    "    return JuMP.value.(x)\n",
    "end"
   ]
  },
  {
   "cell_type": "code",
   "execution_count": 10,
   "id": "fde2c48e-db01-4d60-94cf-cf8580902e4f",
   "metadata": {
    "collapsed": true,
    "jupyter": {
     "outputs_hidden": true
    },
    "tags": []
   },
   "outputs": [
    {
     "data": {
      "text/plain": [
       "3×48×7 Array{Float64, 3}:\n",
       "[:, :, 1] =\n",
       " 0.0  0.0  0.0  0.0  0.0  0.0  0.0  0.0  …  0.0  0.0  1.0  0.0  0.0  0.0  0.0\n",
       " 1.0  0.0  1.0  1.0  1.0  0.0  1.0  1.0     1.0  0.0  0.0  1.0  1.0  1.0  1.0\n",
       " 0.0  1.0  0.0  0.0  0.0  1.0  0.0  0.0     0.0  1.0  0.0  0.0  0.0  0.0  0.0\n",
       "\n",
       "[:, :, 2] =\n",
       " 0.0  0.0  0.0  0.0  0.0  0.0  0.0  0.0  …  0.0  0.0  1.0  0.0  0.0  0.0  0.0\n",
       " 1.0  0.0  1.0  1.0  1.0  0.0  1.0  1.0     1.0  0.0  0.0  1.0  1.0  1.0  1.0\n",
       " 0.0  1.0  0.0  0.0  0.0  1.0  0.0  0.0     0.0  1.0  0.0  0.0  0.0  0.0  0.0\n",
       "\n",
       "[:, :, 3] =\n",
       " 0.0  0.0  0.0  0.0  0.0  0.0  0.0  0.0  …  0.0  0.0  1.0  0.0  0.0  0.0  0.0\n",
       " 1.0  0.0  1.0  1.0  1.0  0.0  1.0  1.0     1.0  0.0  0.0  1.0  1.0  1.0  1.0\n",
       " 0.0  1.0  0.0  0.0  0.0  1.0  0.0  0.0     0.0  1.0  0.0  0.0  0.0  0.0  0.0\n",
       "\n",
       "[:, :, 4] =\n",
       " 0.0  0.0  0.0  0.0  0.0  0.0  0.0  0.0  …  0.0  0.0  1.0  0.0  0.0  0.0  0.0\n",
       " 1.0  0.0  1.0  1.0  1.0  0.0  1.0  1.0     1.0  0.0  0.0  1.0  1.0  1.0  1.0\n",
       " 0.0  1.0  0.0  0.0  0.0  1.0  0.0  0.0     0.0  1.0  0.0  0.0  0.0  0.0  0.0\n",
       "\n",
       "[:, :, 5] =\n",
       " 0.0  0.0  0.0  0.0  0.0  0.0  0.0  0.0  …  0.0  0.0  1.0  0.0  0.0  0.0  0.0\n",
       " 1.0  0.0  1.0  1.0  1.0  0.0  1.0  1.0     1.0  0.0  0.0  1.0  1.0  1.0  1.0\n",
       " 0.0  1.0  0.0  0.0  0.0  1.0  0.0  0.0     0.0  1.0  0.0  0.0  0.0  0.0  0.0\n",
       "\n",
       "[:, :, 6] =\n",
       " 0.0  0.0  0.0  0.0  0.0  0.0  0.0  0.0  …  0.0  0.0  1.0  0.0  0.0  0.0  0.0\n",
       " 1.0  0.0  1.0  1.0  1.0  0.0  1.0  1.0     1.0  0.0  0.0  1.0  1.0  1.0  1.0\n",
       " 0.0  1.0  0.0  0.0  0.0  1.0  0.0  0.0     0.0  1.0  0.0  0.0  0.0  0.0  0.0\n",
       "\n",
       "[:, :, 7] =\n",
       " 0.0  0.0  0.0  0.0  0.0  0.0  0.0  0.0  …  1.0  0.0  0.0  0.0  1.0  0.0  1.0\n",
       " 1.0  1.0  1.0  1.0  1.0  1.0  1.0  1.0     0.0  1.0  0.0  1.0  0.0  0.0  0.0\n",
       " 0.0  0.0  0.0  0.0  0.0  0.0  0.0  0.0     0.0  0.0  1.0  0.0  0.0  1.0  0.0"
      ]
     },
     "execution_count": 10,
     "metadata": {},
     "output_type": "execute_result"
    }
   ],
   "source": [
    "μ = [1,2,-1]\n",
    "week = one_student(μ)"
   ]
  },
  {
   "cell_type": "code",
   "execution_count": null,
   "id": "c3e8bd64-b64e-4f34-9f8f-01be8d53d688",
   "metadata": {},
   "outputs": [],
   "source": []
  }
 ],
 "metadata": {
  "kernelspec": {
   "display_name": "Julia 1.8.0",
   "language": "julia",
   "name": "julia-1.8"
  },
  "language_info": {
   "file_extension": ".jl",
   "mimetype": "application/julia",
   "name": "julia",
   "version": "1.8.0"
  }
 },
 "nbformat": 4,
 "nbformat_minor": 5
}
